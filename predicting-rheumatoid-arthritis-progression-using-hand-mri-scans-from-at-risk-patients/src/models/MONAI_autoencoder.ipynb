{
 "cells": [
  {
   "cell_type": "code",
   "execution_count": 5,
   "metadata": {},
   "outputs": [
    {
     "name": "stdout",
     "output_type": "stream",
     "text": [
      "Collecting apex==0.9.10dev (from -r requirements.txt (line 1))\n",
      "  Downloading apex-0.9.10dev.tar.gz (36 kB)\n",
      "  Preparing metadata (setup.py): started\n",
      "  Preparing metadata (setup.py): finished with status 'done'\n",
      "Collecting bagua==0.9.2 (from -r requirements.txt (line 2))\n",
      "  Downloading bagua-0.9.2.tar.gz (916 kB)\n",
      "     ---------------------------------------- 0.0/916.6 kB ? eta -:--:--\n",
      "     ------------------------------------- 916.6/916.6 kB 20.5 MB/s eta 0:00:00\n",
      "  Installing build dependencies: started\n",
      "  Installing build dependencies: finished with status 'done'\n",
      "  Getting requirements to build wheel: started\n",
      "  Getting requirements to build wheel: finished with status 'done'\n",
      "  Preparing metadata (pyproject.toml): started\n",
      "  Preparing metadata (pyproject.toml): finished with status 'done'\n",
      "Collecting clearml==1.16.4 (from -r requirements.txt (line 3))\n",
      "  Downloading clearml-1.16.4-py2.py3-none-any.whl.metadata (17 kB)\n",
      "Collecting cx_Freeze==7.2.0 (from -r requirements.txt (line 4))\n",
      "  Downloading cx_Freeze-7.2.0-cp312-cp312-win_amd64.whl.metadata (10 kB)\n",
      "Collecting einops==0.8.0 (from -r requirements.txt (line 5))\n",
      "  Downloading einops-0.8.0-py3-none-any.whl.metadata (12 kB)\n",
      "Collecting filelock==3.15.4 (from -r requirements.txt (line 6))\n",
      "  Using cached filelock-3.15.4-py3-none-any.whl.metadata (2.9 kB)\n",
      "Collecting fire==0.6.0 (from -r requirements.txt (line 7))\n",
      "  Downloading fire-0.6.0.tar.gz (88 kB)\n",
      "  Preparing metadata (setup.py): started\n",
      "  Preparing metadata (setup.py): finished with status 'done'\n",
      "Collecting fvcore==0.1.5.post20221221 (from -r requirements.txt (line 8))\n",
      "  Downloading fvcore-0.1.5.post20221221.tar.gz (50 kB)\n",
      "  Preparing metadata (setup.py): started\n",
      "  Preparing metadata (setup.py): finished with status 'done'\n",
      "Collecting ignite==1.1.0 (from -r requirements.txt (line 9))\n",
      "  Downloading ignite-1.1.0-py2.py3-none-any.whl.metadata (856 bytes)\n",
      "Collecting itk==5.4.0 (from -r requirements.txt (line 10))\n",
      "  Downloading itk-5.4.0-cp311-abi3-win_amd64.whl.metadata (22 kB)\n",
      "Collecting lz4==4.3.2 (from -r requirements.txt (line 11))\n",
      "  Downloading lz4-4.3.2.tar.gz (170 kB)\n",
      "  Installing build dependencies: started\n",
      "  Installing build dependencies: finished with status 'done'\n",
      "  Getting requirements to build wheel: started\n",
      "  Getting requirements to build wheel: finished with status 'done'\n",
      "  Preparing metadata (pyproject.toml): started\n",
      "  Preparing metadata (pyproject.toml): finished with status 'done'\n",
      "Collecting matplotlib==3.8.4 (from -r requirements.txt (line 12))\n",
      "  Downloading matplotlib-3.8.4-cp312-cp312-win_amd64.whl.metadata (5.9 kB)\n",
      "Collecting mlflow==2.15.1 (from -r requirements.txt (line 13))\n",
      "  Downloading mlflow-2.15.1-py3-none-any.whl.metadata (29 kB)\n",
      "Collecting nibabel==5.2.1 (from -r requirements.txt (line 14))\n",
      "  Downloading nibabel-5.2.1-py3-none-any.whl.metadata (8.8 kB)\n",
      "Collecting nnunetv2==2.5.1 (from -r requirements.txt (line 15))\n",
      "  Downloading nnunetv2-2.5.1.tar.gz (196 kB)\n",
      "  Installing build dependencies: started\n",
      "  Installing build dependencies: finished with status 'done'\n",
      "  Getting requirements to build wheel: started\n",
      "  Getting requirements to build wheel: finished with status 'done'\n",
      "  Preparing metadata (pyproject.toml): started\n",
      "  Preparing metadata (pyproject.toml): finished with status 'done'\n",
      "Collecting numpy==1.24.4 (from -r requirements.txt (line 16))\n",
      "  Downloading numpy-1.24.4.tar.gz (10.9 MB)\n",
      "     ---------------------------------------- 0.0/10.9 MB ? eta -:--:--\n",
      "     ---------------------------- ----------- 7.9/10.9 MB 40.4 MB/s eta 0:00:01\n",
      "     --------------------------------------- 10.9/10.9 MB 29.6 MB/s eta 0:00:00\n",
      "  Installing build dependencies: started\n",
      "  Installing build dependencies: finished with status 'done'\n",
      "  Getting requirements to build wheel: started\n",
      "  Getting requirements to build wheel: finished with status 'error'\n"
     ]
    },
    {
     "name": "stderr",
     "output_type": "stream",
     "text": [
      "  error: subprocess-exited-with-error\n",
      "  \n",
      "  × Getting requirements to build wheel did not run successfully.\n",
      "  │ exit code: 1\n",
      "  ╰─> [33 lines of output]\n",
      "      Traceback (most recent call last):\n",
      "        File \"C:\\Users\\scmmw\\AppData\\Local\\anaconda3\\envs\\myenv\\Lib\\site-packages\\pip\\_vendor\\pyproject_hooks\\_in_process\\_in_process.py\", line 353, in <module>\n",
      "          main()\n",
      "        File \"C:\\Users\\scmmw\\AppData\\Local\\anaconda3\\envs\\myenv\\Lib\\site-packages\\pip\\_vendor\\pyproject_hooks\\_in_process\\_in_process.py\", line 335, in main\n",
      "          json_out['return_val'] = hook(**hook_input['kwargs'])\n",
      "                                   ^^^^^^^^^^^^^^^^^^^^^^^^^^^^\n",
      "        File \"C:\\Users\\scmmw\\AppData\\Local\\anaconda3\\envs\\myenv\\Lib\\site-packages\\pip\\_vendor\\pyproject_hooks\\_in_process\\_in_process.py\", line 112, in get_requires_for_build_wheel\n",
      "          backend = _build_backend()\n",
      "                    ^^^^^^^^^^^^^^^^\n",
      "        File \"C:\\Users\\scmmw\\AppData\\Local\\anaconda3\\envs\\myenv\\Lib\\site-packages\\pip\\_vendor\\pyproject_hooks\\_in_process\\_in_process.py\", line 77, in _build_backend\n",
      "          obj = import_module(mod_path)\n",
      "                ^^^^^^^^^^^^^^^^^^^^^^^\n",
      "        File \"C:\\Users\\scmmw\\AppData\\Local\\anaconda3\\envs\\myenv\\Lib\\importlib\\__init__.py\", line 90, in import_module\n",
      "          return _bootstrap._gcd_import(name[level:], package, level)\n",
      "                 ^^^^^^^^^^^^^^^^^^^^^^^^^^^^^^^^^^^^^^^^^^^^^^^^^^^^\n",
      "        File \"<frozen importlib._bootstrap>\", line 1387, in _gcd_import\n",
      "        File \"<frozen importlib._bootstrap>\", line 1360, in _find_and_load\n",
      "        File \"<frozen importlib._bootstrap>\", line 1310, in _find_and_load_unlocked\n",
      "        File \"<frozen importlib._bootstrap>\", line 488, in _call_with_frames_removed\n",
      "        File \"<frozen importlib._bootstrap>\", line 1387, in _gcd_import\n",
      "        File \"<frozen importlib._bootstrap>\", line 1360, in _find_and_load\n",
      "        File \"<frozen importlib._bootstrap>\", line 1331, in _find_and_load_unlocked\n",
      "        File \"<frozen importlib._bootstrap>\", line 935, in _load_unlocked\n",
      "        File \"<frozen importlib._bootstrap_external>\", line 995, in exec_module\n",
      "        File \"<frozen importlib._bootstrap>\", line 488, in _call_with_frames_removed\n",
      "        File \"C:\\Users\\scmmw\\AppData\\Local\\Temp\\3\\pip-build-env-s435bpos\\overlay\\Lib\\site-packages\\setuptools\\__init__.py\", line 16, in <module>\n",
      "          import setuptools.version\n",
      "        File \"C:\\Users\\scmmw\\AppData\\Local\\Temp\\3\\pip-build-env-s435bpos\\overlay\\Lib\\site-packages\\setuptools\\version.py\", line 1, in <module>\n",
      "          import pkg_resources\n",
      "        File \"C:\\Users\\scmmw\\AppData\\Local\\Temp\\3\\pip-build-env-s435bpos\\overlay\\Lib\\site-packages\\pkg_resources\\__init__.py\", line 2172, in <module>\n",
      "          register_finder(pkgutil.ImpImporter, find_on_path)\n",
      "                          ^^^^^^^^^^^^^^^^^^^\n",
      "      AttributeError: module 'pkgutil' has no attribute 'ImpImporter'. Did you mean: 'zipimporter'?\n",
      "      [end of output]\n",
      "  \n",
      "  note: This error originates from a subprocess, and is likely not a problem with pip.\n",
      "error: subprocess-exited-with-error\n",
      "\n",
      "× Getting requirements to build wheel did not run successfully.\n",
      "│ exit code: 1\n",
      "╰─> See above for output.\n",
      "\n",
      "note: This error originates from a subprocess, and is likely not a problem with pip.\n"
     ]
    }
   ],
   "source": [
    "!pip install -r requirements.txt\n"
   ]
  },
  {
   "cell_type": "code",
   "execution_count": 76,
   "metadata": {},
   "outputs": [],
   "source": [
    "from einops import rearrange\n"
   ]
  },
  {
   "cell_type": "code",
   "execution_count": 6,
   "metadata": {},
   "outputs": [
    {
     "name": "stdout",
     "output_type": "stream",
     "text": [
      "Collecting tensorboardXNote: you may need to restart the kernel to use updated packages.\n",
      "\n",
      "  Downloading tensorboardX-2.6.2.2-py2.py3-none-any.whl.metadata (5.8 kB)\n",
      "Requirement already satisfied: numpy in c:\\users\\scmmw\\appdata\\local\\anaconda3\\envs\\myenv\\lib\\site-packages (from tensorboardX) (1.26.4)\n",
      "Requirement already satisfied: packaging in c:\\users\\scmmw\\appdata\\local\\anaconda3\\envs\\myenv\\lib\\site-packages (from tensorboardX) (24.1)\n",
      "Collecting protobuf>=3.20 (from tensorboardX)\n",
      "  Downloading protobuf-5.27.4-cp310-abi3-win_amd64.whl.metadata (592 bytes)\n",
      "Downloading tensorboardX-2.6.2.2-py2.py3-none-any.whl (101 kB)\n",
      "Downloading protobuf-5.27.4-cp310-abi3-win_amd64.whl (426 kB)\n",
      "Installing collected packages: protobuf, tensorboardX\n",
      "Successfully installed protobuf-5.27.4 tensorboardX-2.6.2.2\n"
     ]
    }
   ],
   "source": [
    "pip install tensorboardX"
   ]
  },
  {
   "cell_type": "code",
   "execution_count": 14,
   "metadata": {},
   "outputs": [
    {
     "name": "stdout",
     "output_type": "stream",
     "text": [
      "Collecting monai==1.3.2\n",
      "  Downloading monai-1.3.2-py3-none-any.whl.metadata (10 kB)\n",
      "Requirement already satisfied: torch>=1.9 in c:\\users\\scmmw\\appdata\\local\\anaconda3\\envs\\myenv\\lib\\site-packages (from monai==1.3.2) (2.4.0)\n",
      "Requirement already satisfied: numpy>=1.20 in c:\\users\\scmmw\\appdata\\local\\anaconda3\\envs\\myenv\\lib\\site-packages (from monai==1.3.2) (1.26.4)\n",
      "Requirement already satisfied: filelock in c:\\users\\scmmw\\appdata\\local\\anaconda3\\envs\\myenv\\lib\\site-packages (from torch>=1.9->monai==1.3.2) (3.13.1)\n",
      "Requirement already satisfied: typing-extensions>=4.8.0 in c:\\users\\scmmw\\appdata\\local\\anaconda3\\envs\\myenv\\lib\\site-packages (from torch>=1.9->monai==1.3.2) (4.11.0)\n",
      "Requirement already satisfied: sympy in c:\\users\\scmmw\\appdata\\local\\anaconda3\\envs\\myenv\\lib\\site-packages (from torch>=1.9->monai==1.3.2) (1.12)\n",
      "Requirement already satisfied: networkx in c:\\users\\scmmw\\appdata\\local\\anaconda3\\envs\\myenv\\lib\\site-packages (from torch>=1.9->monai==1.3.2) (3.3)\n",
      "Requirement already satisfied: jinja2 in c:\\users\\scmmw\\appdata\\local\\anaconda3\\envs\\myenv\\lib\\site-packages (from torch>=1.9->monai==1.3.2) (3.1.4)\n",
      "Collecting fsspec (from torch>=1.9->monai==1.3.2)\n",
      "  Using cached fsspec-2024.6.1-py3-none-any.whl.metadata (11 kB)\n",
      "Requirement already satisfied: setuptools in c:\\users\\scmmw\\appdata\\local\\anaconda3\\envs\\myenv\\lib\\site-packages (from torch>=1.9->monai==1.3.2) (72.1.0)\n",
      "Requirement already satisfied: MarkupSafe>=2.0 in c:\\users\\scmmw\\appdata\\local\\anaconda3\\envs\\myenv\\lib\\site-packages (from jinja2->torch>=1.9->monai==1.3.2) (2.1.3)\n",
      "Requirement already satisfied: mpmath>=0.19 in c:\\users\\scmmw\\appdata\\local\\anaconda3\\envs\\myenv\\lib\\site-packages (from sympy->torch>=1.9->monai==1.3.2) (1.3.0)\n",
      "Downloading monai-1.3.2-py3-none-any.whl (1.4 MB)\n",
      "   ---------------------------------------- 0.0/1.4 MB ? eta -:--:--\n",
      "   ---------------------------------------- 1.4/1.4 MB 23.5 MB/s eta 0:00:00\n",
      "Using cached fsspec-2024.6.1-py3-none-any.whl (177 kB)\n",
      "Installing collected packages: fsspec, monai\n",
      "Successfully installed fsspec-2024.6.1 monai-1.3.2\n"
     ]
    }
   ],
   "source": [
    "# conda install -c conda-forge monai=1.3.2\n",
    "!pip install monai==1.3.2\n"
   ]
  },
  {
   "cell_type": "code",
   "execution_count": 34,
   "metadata": {},
   "outputs": [],
   "source": [
    "torch.cuda.empty_cache()"
   ]
  },
  {
   "cell_type": "code",
   "execution_count": 35,
   "metadata": {},
   "outputs": [
    {
     "name": "stdout",
     "output_type": "stream",
     "text": [
      "MONAI version: 1.3.2\n",
      "Numpy version: 1.26.4\n",
      "Pytorch version: 2.4.0\n",
      "MONAI flags: HAS_EXT = False, USE_COMPILED = False, USE_META_DICT = False\n",
      "MONAI rev id: 59a7211070538586369afd4a01eca0a7fe2e742e\n",
      "MONAI __file__: c:\\Users\\<username>\\AppData\\Local\\anaconda3\\envs\\myenv\\Lib\\site-packages\\monai\\__init__.py\n",
      "\n",
      "Optional dependencies:\n",
      "Pytorch Ignite version: 0.4.11\n",
      "ITK version: 5.4.0\n",
      "Nibabel version: 5.2.1\n",
      "scikit-image version: 0.24.0\n",
      "scipy version: 1.14.1\n",
      "Pillow version: 10.4.0\n",
      "Tensorboard version: 2.17.1\n",
      "gdown version: 5.2.0\n",
      "TorchVision version: 0.19.0\n",
      "tqdm version: 4.66.5\n",
      "lmdb version: 1.5.1\n",
      "psutil version: 5.9.0\n",
      "pandas version: 2.2.2\n",
      "einops version: 0.8.0\n",
      "transformers version: NOT INSTALLED or UNKNOWN VERSION.\n",
      "mlflow version: 2.15.1\n",
      "pynrrd version: 1.0.0\n",
      "clearml version: 1.16.4\n",
      "\n",
      "For details about installing the optional dependencies, please visit:\n",
      "    https://docs.monai.io/en/latest/installation.html#installing-the-recommended-dependencies\n",
      "\n"
     ]
    }
   ],
   "source": [
    "# Importing necessary libraries for logging, file handling, and system operations\n",
    "import logging  # Provides a flexible framework for emitting log messages from Python programs.\n",
    "import os  # Provides a way of using operating system-dependent functionality, such as reading or writing to the file system.\n",
    "import shutil  # Used for high-level file operations, such as copying or removing files and directories.\n",
    "import sys  # Provides access to some variables used or maintained by the Python interpreter and to functions that interact with the interpreter.\n",
    "import tempfile  # Used to create temporary files and directories.\n",
    "import random  # Implements pseudo-random number generators for various distributions.\n",
    "import numpy as np  # Fundamental package for scientific computing with Python, providing support for large, multi-dimensional arrays and matrices.\n",
    "from tqdm import trange  # Provides a progress bar for loops, making it easier to track long-running tasks.\n",
    "import matplotlib.pyplot as plt  # A plotting library used for creating static, animated, and interactive visualizations in Python.\n",
    "import torch  # PyTorch, an open-source machine learning library based on the Torch library, used for applications such as computer vision and natural language processing.\n",
    "#from skimage.util import random_noise  # A function to add random noise of various types to an image.\n",
    "# Importing functions and classes from the MONAI library, a deep learning framework specialized for healthcare imaging\n",
    "from monai.apps import download_and_extract  # Utility to download and extract files, particularly useful for datasets.\n",
    "from monai.config import print_config  # Prints the current configuration of MONAI, including the environment, installed packages, and versions.\n",
    "from monai.data import CacheDataset, DataLoader  # CacheDataset caches data and is useful for datasets that fit in memory. DataLoader is used to load the data in batches.\n",
    "from monai.networks.nets import AutoEncoder, SwinUNETR  # Importing an AutoEncoder model, which is a type of neural network used for unsupervised learning, particularly for dimensionality reduction.\n",
    "from monai.transforms import (  # Importing various transformations to be applied to the data.\n",
    "    EnsureChannelFirstD,  # Ensures the channel dimension is first in the data tensor.\n",
    "    Compose,  # Allows the chaining of multiple transformations to be applied sequentially.\n",
    "    LoadImageD,  # Loads images from a file.\n",
    "    RandFlipD,  # Randomly flips the image along a specified axis.\n",
    "    RandRotateD,  # Randomly rotates the image within a specified angle range.\n",
    "    RandZoomD,  # Randomly zooms in or out of the image within a specified range.\n",
    "    ScaleIntensityD,  # Scales the intensity of the image to a specified range.\n",
    "    EnsureTypeD,  # Ensures the output is of a specific data type.\n",
    "    Lambda,  # Allows for custom transformations using a lambda function.\n",
    "    #AddChannelD\n",
    ")\n",
    "from monai.utils import set_determinism  # Sets the seed for random number generators to ensure reproducibility.\n",
    "from monai.networks.utils import copy_model_state\n",
    "from monai.networks.nets.swin_unetr import filter_swinunetr\n",
    "from monai.transforms import RandSpatialCropd\n",
    "import math\n",
    "import warnings\n",
    "from typing import List\n",
    "\n",
    "from torch import nn as nn\n",
    "from torch.optim import Adam, Optimizer\n",
    "from torch.optim.lr_scheduler import LambdaLR, _LRScheduler\n",
    "import os\n",
    "import random\n",
    "import glob\n",
    "import numpy as np\n",
    "import pydicom\n",
    "import matplotlib.pyplot as plt\n",
    "from tensorboardX import SummaryWriter\n",
    "# Print the current MONAI configuration\n",
    "print_config()\n",
    "#from Hand_Scan_Dataset import HandScanDataset2, train_df, valid_df, training_data_dir\n",
    "import torch\n",
    "import torch.nn as nn\n",
    "import torch.optim as optim\n",
    "from torch.utils.data import DataLoader\n",
    "import logging\n",
    "from torch.utils.tensorboard import SummaryWriter\n",
    "from tqdm import tqdm\n",
    "import time\n",
    "import torch.nn.functional as F\n",
    "import psutil  # For memory tracking\n",
    "import gc\n",
    "from torch.cuda.amp import autocast\n",
    "import pandas as pd  # For data manipulation and analysis\n",
    "# Standard library imports\n",
    "from pathlib import Path  # To handle and manipulate filesystem paths\n",
    "import os  # For interacting with the operating system\n",
    "import glob  # For finding all file paths matching a specified pattern\n",
    "\n",
    "# Third-party imports\n",
    "import numpy as np  # For numerical operations and handling arrays\n",
    "import pandas as pd  # For data manipulation and analysis\n",
    "import matplotlib.pyplot as plt  # For creating static, animated, and interactive visualizations\n",
    "from PIL import Image  # For opening, manipulating, and saving many different image file formats\n",
    "\n",
    "# PyTorch imports\n",
    "import torch  # Main PyTorch library for building and training neural networks\n",
    "from torch.utils.data import Dataset, DataLoader  # For handling datasets and data loaders\n",
    "import torch.nn.functional as F\n",
    "\n",
    "# PyTorch-I/O extension\n",
    "import torchio as tio  # For medical image processing in PyTorch\n",
    "\n",
    "# pydicom imports\n",
    "import pydicom  # For reading, modifying, and writing DICOM files\n",
    "from pydicom.data import get_testdata_file  # For accessing test DICOM files\n",
    "from pydicom.fileset import FileSet  # For working with DICOM FileSets\n",
    "\n",
    "# Scikit-learn imports\n",
    "from sklearn.model_selection import train_test_split  # For splitting datasets into training and testing sets\n",
    "\n",
    "from collections import defaultdict\n",
    "from monai.transforms import apply_transform\n",
    "\n"
   ]
  },
  {
   "cell_type": "code",
   "execution_count": 36,
   "metadata": {},
   "outputs": [],
   "source": [
    "# Set up basic logging configuration to output log messages to the console (stdout).\n",
    "# The logging level is set to INFO, meaning all messages at this level and above\n",
    "# (INFO, WARNING, ERROR, CRITICAL) will be displayed.\n",
    "logging.basicConfig(stream=sys.stdout, level=logging.INFO)\n",
    "\n",
    "\n",
    "# Set deterministic behavior for reproducibility. This is important in experiments where\n",
    "# you want to ensure that the results are the same every time the code is run. \n",
    "# The seed value is set to 0, which will be used to initialize the random number generator.\n",
    "set_determinism(0)\n",
    "\n",
    "# Determine the device to run the computations on. If a CUDA-capable GPU is available,\n",
    "# the device will be set to \"cuda\" (meaning GPU); otherwise, it will fall back to \"cpu\".\n",
    "# This allows the code to take advantage of GPU acceleration if possible.\n",
    "device = torch.device(\"cuda\" if torch.cuda.is_available() else \"cpu\")\n"
   ]
  },
  {
   "cell_type": "code",
   "execution_count": 37,
   "metadata": {},
   "outputs": [],
   "source": [
    "import matplotlib.pyplot as plt\n",
    "import torch\n",
    "\n",
    "def plot_ims(ims, shape=None, figsize=(10, 10), titles=None):\n",
    "    shape = (1, len(ims)) if shape is None else shape\n",
    "    plt.subplots(*shape, figsize=figsize)\n",
    "    for i, im in enumerate(ims):\n",
    "        plt.subplot(*shape, i + 1)\n",
    "        \n",
    "        # Convert numpy array to a compatible data type if needed\n",
    "        if isinstance(im, np.ndarray):\n",
    "            im = im.astype(np.float32)  # Convert to a supported type like float32\n",
    "            im = torch.from_numpy(im)\n",
    "        \n",
    "        # Squeeze the image if it's a tensor\n",
    "        if isinstance(im, torch.Tensor):\n",
    "            im = torch.squeeze(im)\n",
    "        \n",
    "        plt.imshow(im, cmap=\"gray\")\n",
    "        \n",
    "        if titles is not None:\n",
    "            plt.title(titles[i])\n",
    "        plt.axis(\"off\")\n",
    "    \n",
    "    plt.tight_layout()\n",
    "    plt.show()\n"
   ]
  },
  {
   "cell_type": "code",
   "execution_count": 38,
   "metadata": {},
   "outputs": [
    {
     "data": {
      "text/plain": [
       "'\\n# Define a custom transformation using MONAI\\'s Lambda transform.\\n# The transformation applies two types of noise to the image: Gaussian noise and Salt & Pepper noise.\\n# It creates a dictionary with three keys: \"orig\" (original image), \"gaus\" (image with Gaussian noise),\\n# and \"s&p\" (image with Salt & Pepper noise).\\nNoiseLambda = Lambda(\\n    lambda d: {\\n        \"orig\": d[\"im\"],  # Original image\\n        \"gaus\": torch.tensor(random_noise(d[\"im\"], mode=\"gaussian\"), dtype=torch.float32),  # Gaussian noise\\n        \"s&p\": torch.tensor(random_noise(d[\"im\"], mode=\"s&p\", salt_vs_pepper=0.1)),  # Salt & Pepper noise\\n    }\\n)\\n\\n# Define the set of transformations to apply to the training data.\\ntrain_transforms = Compose(\\n    [\\n        LoadImageD(keys=[\"im\"]),  # Load the image from file\\n        EnsureChannelFirstD(keys=[\"im\"]),  # Ensure the image has the channel dimension first (e.g., [C, H, W])\\n        ScaleIntensityD(keys=[\"im\"]),  # Scale the intensity of the image to a specific range (default 0 to 1)\\n        RandRotateD(keys=[\"im\"], range_x=np.pi / 12, prob=0.5, keep_size=True),  # Randomly rotate the image\\n        RandFlipD(keys=[\"im\"], spatial_axis=0, prob=0.5),  # Randomly flip the image along the specified axis\\n        RandZoomD(keys=[\"im\"], min_zoom=0.9, max_zoom=1.1, prob=0.5),  # Randomly zoom in/out on the image\\n        EnsureTypeD(keys=[\"im\"]),  # Ensure the image is a PyTorch tensor with appropriate data type\\n        NoiseLambda,  # Apply the custom noise transformation\\n    ]\\n)\\n\\n# Define the set of transformations to apply to the test data.\\ntest_transforms = Compose(\\n    [\\n        LoadImageD(keys=[\"im\"]),  # Load the image from file\\n        EnsureChannelFirstD(keys=[\"im\"]),  # Ensure the image has the channel dimension first\\n        ScaleIntensityD(keys=[\"im\"]),  # Scale the intensity of the image to a specific range\\n        EnsureTypeD(keys=[\"im\"]),  # Ensure the image is a PyTorch tensor with appropriate data type\\n        NoiseLambda,  # Apply the custom noise transformation\\n    ]\\n)\\n'"
      ]
     },
     "execution_count": 38,
     "metadata": {},
     "output_type": "execute_result"
    }
   ],
   "source": [
    "'''\n",
    "# Define a custom transformation using MONAI's Lambda transform.\n",
    "# The transformation applies two types of noise to the image: Gaussian noise and Salt & Pepper noise.\n",
    "# It creates a dictionary with three keys: \"orig\" (original image), \"gaus\" (image with Gaussian noise),\n",
    "# and \"s&p\" (image with Salt & Pepper noise).\n",
    "NoiseLambda = Lambda(\n",
    "    lambda d: {\n",
    "        \"orig\": d[\"im\"],  # Original image\n",
    "        \"gaus\": torch.tensor(random_noise(d[\"im\"], mode=\"gaussian\"), dtype=torch.float32),  # Gaussian noise\n",
    "        \"s&p\": torch.tensor(random_noise(d[\"im\"], mode=\"s&p\", salt_vs_pepper=0.1)),  # Salt & Pepper noise\n",
    "    }\n",
    ")\n",
    "\n",
    "# Define the set of transformations to apply to the training data.\n",
    "train_transforms = Compose(\n",
    "    [\n",
    "        LoadImageD(keys=[\"im\"]),  # Load the image from file\n",
    "        EnsureChannelFirstD(keys=[\"im\"]),  # Ensure the image has the channel dimension first (e.g., [C, H, W])\n",
    "        ScaleIntensityD(keys=[\"im\"]),  # Scale the intensity of the image to a specific range (default 0 to 1)\n",
    "        RandRotateD(keys=[\"im\"], range_x=np.pi / 12, prob=0.5, keep_size=True),  # Randomly rotate the image\n",
    "        RandFlipD(keys=[\"im\"], spatial_axis=0, prob=0.5),  # Randomly flip the image along the specified axis\n",
    "        RandZoomD(keys=[\"im\"], min_zoom=0.9, max_zoom=1.1, prob=0.5),  # Randomly zoom in/out on the image\n",
    "        EnsureTypeD(keys=[\"im\"]),  # Ensure the image is a PyTorch tensor with appropriate data type\n",
    "        NoiseLambda,  # Apply the custom noise transformation\n",
    "    ]\n",
    ")\n",
    "\n",
    "# Define the set of transformations to apply to the test data.\n",
    "test_transforms = Compose(\n",
    "    [\n",
    "        LoadImageD(keys=[\"im\"]),  # Load the image from file\n",
    "        EnsureChannelFirstD(keys=[\"im\"]),  # Ensure the image has the channel dimension first\n",
    "        ScaleIntensityD(keys=[\"im\"]),  # Scale the intensity of the image to a specific range\n",
    "        EnsureTypeD(keys=[\"im\"]),  # Ensure the image is a PyTorch tensor with appropriate data type\n",
    "        NoiseLambda,  # Apply the custom noise transformation\n",
    "    ]\n",
    ")\n",
    "'''"
   ]
  },
  {
   "cell_type": "code",
   "execution_count": 39,
   "metadata": {},
   "outputs": [],
   "source": [
    "'''\n",
    "\n",
    "NoiseLambda = Lambda(\n",
    "    lambda d: {\n",
    "        \"im\": d[\"im\"],  # Preserve the original image key\n",
    "        \"orig\": d[\"im\"].clone(),  # Store a copy of the original image\n",
    "        \"gaus\": torch.tensor(random_noise(d[\"im\"].numpy(), mode=\"gaussian\"), dtype=torch.float32),\n",
    "        \"s&p\": torch.tensor(random_noise(d[\"im\"].numpy(), mode=\"s&p\", salt_vs_pepper=0.1), dtype=torch.float32),\n",
    "    }\n",
    ")\n",
    "\n",
    "\n",
    "train_transforms = Compose(\n",
    "    [\n",
    "        AddChannelD(keys=[\"im\"]),\n",
    "        ScaleIntensityD(keys=[\"im\"]),\n",
    "        RandRotateD(keys=[\"im\"], range_x=np.pi / 12, prob=0.5, keep_size=True),\n",
    "        RandFlipD(keys=[\"im\"], spatial_axis=0, prob=0.5),\n",
    "        RandZoomD(keys=[\"im\"], min_zoom=0.9, max_zoom=1.1, prob=0.5),\n",
    "        EnsureTypeD(keys=[\"im\"]),\n",
    "        NoiseLambda,\n",
    "    ]\n",
    ")\n",
    "\n",
    "test_transforms = Compose(\n",
    "    [\n",
    "        AddChannelD(keys=[\"im\"]),\n",
    "        ScaleIntensityD(keys=[\"im\"]),\n",
    "        EnsureTypeD(keys=[\"im\"]),\n",
    "        NoiseLambda,\n",
    "    ]\n",
    ")'''\n",
    "\n",
    "'''from monai.transforms import Compose, ScaleIntensityD, RandRotateD, RandFlipD, RandZoomD, EnsureTypeD, Lambda\n",
    "import torch\n",
    "import numpy as np\n",
    "from skimage.util import random_noise\n",
    "\n",
    "# Save the original image before applying transformations\n",
    "SaveOriginalLambda = Lambda(\n",
    "    lambda d: {\n",
    "        \"im\": d[\"im\"],  # Original image key\n",
    "        \"orig\": d[\"im\"].clone(),  # Save a clone of the original image\n",
    "    }\n",
    ")\n",
    "\n",
    "# Add noise transformations while preserving the original\n",
    "NoiseLambda = Lambda(\n",
    "    lambda d: {\n",
    "        **d,  # Keep the original keys\n",
    "        \"gaus\": torch.tensor(random_noise(d[\"orig\"].numpy(), mode=\"gaussian\"), dtype=torch.float32),  # Gaussian noise on original\n",
    "        \"s&p\": torch.tensor(random_noise(d[\"orig\"].numpy(), mode=\"s&p\", salt_vs_pepper=0.1), dtype=torch.float32),  # Salt & Pepper noise on original\n",
    "    }\n",
    ")\n",
    "\n",
    "train_transforms = Compose(\n",
    "    [\n",
    "        # AddChannelD(keys=[\"im\"]),\n",
    "        SaveOriginalLambda,  # Save the original image before any transformations\n",
    "        ScaleIntensityD(keys=[\"im\"]),\n",
    "        RandRotateD(keys=[\"im\"], range_x=np.pi / 12, prob=0.5, keep_size=True),\n",
    "        RandFlipD(keys=[\"im\"], spatial_axis=0, prob=0.5),\n",
    "        RandZoomD(keys=[\"im\"], min_zoom=0.9, max_zoom=1.1, prob=0.5),\n",
    "        EnsureTypeD(keys=[\"im\"]),\n",
    "        #NoiseLambda,  # Apply noise to the stored original image\n",
    "    ]\n",
    ")\n",
    "\n",
    "test_transforms = Compose(\n",
    "    [\n",
    "        # AddChannelD(keys=[\"im\"]),\n",
    "        SaveOriginalLambda,  # Save the original image before applying noise\n",
    "        ScaleIntensityD(keys=[\"im\"]),\n",
    "        EnsureTypeD(keys=[\"im\"]),\n",
    "        #NoiseLambda,  # Apply noise to the stored original image\n",
    "    ]\n",
    ")\n",
    "'''\n",
    "\n",
    "train_transforms = RandSpatialCropd(keys=[\"im\"], roi_size=(96, 96, 96), random_center=True, random_size=False)\n",
    "test_transforms = RandSpatialCropd(keys=[\"im\"], roi_size=(96, 96, 96), random_center=True, random_size=False)"
   ]
  },
  {
   "cell_type": "code",
   "execution_count": 40,
   "metadata": {},
   "outputs": [],
   "source": [
    "import os\n",
    "import pandas as pd\n",
    "from sklearn.model_selection import train_test_split\n",
    "\n",
    "# Define the base directory and CSV path\n",
    "training_data_dir = r'c:\\Users\\scmmw\\OneDrive - University of Leeds\\t1_vibe_we_hand_subset'\n",
    "csv_path = r'C:\\Users\\scmmw\\OneDrive - University of Leeds\\t1_vibe_we_hand_subset\\training_labels_subset.csv'\n",
    "\n",
    "# Read the labels DataFrame\n",
    "labels_df = pd.read_csv(csv_path)\n",
    "\n",
    "# Split the data into training and validation sets\n",
    "train_df, valid_df = train_test_split(labels_df, test_size=0.2, random_state=42, stratify=labels_df['progression'])\n",
    "\n",
    "# Save the splits for reference (optional)\n",
    "train_df.to_csv(os.path.join(training_data_dir, 'train_split.csv'), index=False)\n",
    "valid_df.to_csv(os.path.join(training_data_dir, 'valid_split.csv'), index=False)\n"
   ]
  },
  {
   "cell_type": "code",
   "execution_count": 41,
   "metadata": {},
   "outputs": [],
   "source": [
    "# Construct full paths to patient directories for training and validation\n",
    "train_patient_dirs = [os.path.join(training_data_dir, subject_name) for subject_name in train_df['patient ID'].tolist()]\n",
    "valid_patient_dirs = [os.path.join(training_data_dir, subject_name) for subject_name in valid_df['patient ID'].tolist()]\n"
   ]
  },
  {
   "cell_type": "code",
   "execution_count": 42,
   "metadata": {},
   "outputs": [],
   "source": [
    "import os\n",
    "import glob\n",
    "import torch\n",
    "import pydicom\n",
    "import numpy as np\n",
    "from torch.utils.data import Dataset\n",
    "\n",
    "class HandScanDataset2(Dataset):\n",
    "    def __init__(self, data_dir, transform=None, device=None):\n",
    "        \"\"\"\n",
    "        Args:\n",
    "            patient_dirs (list): List of paths to the patient directories.\n",
    "            transform (callable, optional): Optional transform to be applied on a sample.\n",
    "            device (torch.device, optional): Device to use for tensor operations (e.g., 'cuda' or 'cpu').\n",
    "        \"\"\"\n",
    "        self.data_dir = sorted(data_dir)\n",
    "        self.transform = transform\n",
    "        self.device = device if device else torch.device('cpu')\n",
    "\n",
    "    def __len__(self):\n",
    "        return len(self.data_dir)\n",
    "\n",
    "    def __getitem__(self, idx):\n",
    "        if torch.is_tensor(idx):\n",
    "            idx = idx.tolist()\n",
    "\n",
    "        # Get the patient directory based on the index\n",
    "        patient_dir = self.data_dir[idx]\n",
    "\n",
    "        # Load and process images from the patient directory\n",
    "        images = self.get_best_patient_images(patient_dir)\n",
    "\n",
    "        if len(images) == 0:\n",
    "            raise ValueError(f\"No images found for patient directory {patient_dir}\")\n",
    "\n",
    "        # Correct use of autocast and tensor creation\n",
    "        with torch.amp.autocast(device_type=self.device.type, dtype=torch.float16):\n",
    "            # Proper handling of tensor conversion\n",
    "            images = [\n",
    "                torch.tensor(img, dtype=torch.float32).to(self.device) if not isinstance(img, torch.Tensor) else img.to(self.device).float()\n",
    "                for img in images\n",
    "            ]\n",
    "            \n",
    "            images_tensor = torch.stack(images, dim=0).to(self.device)\n",
    "            images_tensor_channel = torch.unsqueeze(images_tensor, 0)  # Add a channel dimension\n",
    "\n",
    "\n",
    "        # Prepare the data dictionary with the image tensor\n",
    "        data = {\"im\": images_tensor_channel}\n",
    "\n",
    "        # Apply any provided transforms\n",
    "        if self.transform:\n",
    "            data = self.transform(data)  # Assuming transform takes and returns a dictionary\n",
    "\n",
    "        return data\n",
    "\n",
    "\n",
    "    def get_best_patient_images(self, base_path):\n",
    "        \"\"\" \n",
    "        Process all images in the 't1_vibe_we' subfolder of each subject.\n",
    "        Sort images by Instance Number and return a sequence of a fixed length.\n",
    "        \"\"\"\n",
    "        seq_len = 32\n",
    "        all_images = []\n",
    "        dicom_files = [] \n",
    "        target_size = (512, 512)  # Set a fixed image shape\n",
    "\n",
    "        for root, dirs, files in os.walk(base_path):\n",
    "            if 't1_vibe_we' in dirs:\n",
    "                t1_vibe_we_path = os.path.join(root, 't1_vibe_we')\n",
    "                \n",
    "                # Get the images in the 't1_vibe_we' sequence\n",
    "                dicom_files = []\n",
    "                for image_path in glob.glob(os.path.join(t1_vibe_we_path, '*')):\n",
    "                    try:\n",
    "                        dicom_file = pydicom.dcmread(image_path)\n",
    "                        dicom_files.append((dicom_file, image_path))\n",
    "                    except Exception as e:\n",
    "                        print(f\"Error reading {image_path}: {e}\")\n",
    "\n",
    "\n",
    "            # Sort the files by Instance Number\n",
    "            dicom_files.sort(key=lambda x: x[0].InstanceNumber)\n",
    "            \n",
    "            # Remove duplicates\n",
    "            dicom_files = self.remove_duplicates(dicom_files)\n",
    "\n",
    "            # Find the best slice\n",
    "            if dicom_files:\n",
    "                # Find the slice with the highest intensity\n",
    "                max_sum = -1\n",
    "                best_dicom_file, best_image_path = None, None\n",
    "                for dicom_file, image_path in dicom_files:\n",
    "                    image = dicom_file.pixel_array\n",
    "                    image_sum = np.sum(image)\n",
    "                    if image_sum > max_sum:\n",
    "                        max_sum = image_sum\n",
    "                        best_dicom_file, best_image_path = dicom_file, image_path\n",
    "\n",
    "                if best_dicom_file is not None:\n",
    "                    best_instance_number = best_dicom_file.InstanceNumber\n",
    "\n",
    "                    # Calculate the central slice index\n",
    "                    central_index = best_instance_number - 1  # InstanceNumber is 1-based\n",
    "\n",
    "                    # Determine the range of slices to extract the central 5 slices\n",
    "                    start_index = max(0, central_index - 2)\n",
    "                    end_index = min(len(dicom_files), central_index + 3)\n",
    "\n",
    "                    # Extract the central 5 slices\n",
    "                    selected_slices = dicom_files[start_index:end_index]\n",
    "\n",
    "                    images = []\n",
    "                    for dicom_file, image_path in selected_slices:\n",
    "                        try:\n",
    "                            image = self.process_dicom_image(image_path, target_size=target_size)\n",
    "                            images.append(image)\n",
    "                        except Exception as e:\n",
    "                            print(f\"Error processing image {image_path}: {e}\")\n",
    "\n",
    "                    # Pad to the required sequence length if needed\n",
    "                    if len(images) < seq_len:\n",
    "                        # Pad with zero images of the same shape as the original images\n",
    "                        diff = seq_len - len(images)\n",
    "                        images.extend([torch.zeros(target_size, dtype=torch.float32).to(self.device) for _ in range(diff)])\n",
    "\n",
    "                    all_images.extend(images)\n",
    "\n",
    "        return all_images\n",
    "\n",
    "\n",
    "    def remove_duplicates(self, dicom_files):\n",
    "        \"\"\" Remove duplicate instance numbers, keeping only the slice with the highest sum of intensities. \"\"\"\n",
    "        instance_dict = defaultdict(list)\n",
    "\n",
    "        for dicom_file, image_path in dicom_files:\n",
    "            instance_number = dicom_file.InstanceNumber\n",
    "            instance_dict[instance_number].append((dicom_file, image_path))\n",
    "\n",
    "        # Compare DICOM files with the same Instance Number\n",
    "        unique_dicom_files = []\n",
    "        for instance_number, files in instance_dict.items():\n",
    "            if len(files) > 1:\n",
    "                best_slice = self.find_best_slice(files)\n",
    "                unique_dicom_files.append(best_slice)\n",
    "            else:\n",
    "                unique_dicom_files.append(files[0])\n",
    "\n",
    "        return unique_dicom_files\n",
    "\n",
    "    def find_best_slice(self, dicom_files):\n",
    "        \"\"\" Find the slice with the 'DOTAREM' ContrastBolusAgent or, as a fallback, return the first available slice. \"\"\"\n",
    "        best_slice = None\n",
    "\n",
    "        # Check for the slice with 'DOTAREM'\n",
    "        for dicom_file, image_path in dicom_files:\n",
    "            if hasattr(dicom_file, 'ContrastBolusAgent') and dicom_file.ContrastBolusAgent == 'DOTAREM':\n",
    "                best_slice = (dicom_file, image_path)\n",
    "                break  # Stop searching once we find the 'DOTAREM' slice\n",
    "\n",
    "        # Fallback: If no slice with 'DOTAREM' is found, return the first slice\n",
    "        if best_slice is None:\n",
    "            best_slice = dicom_files[0]\n",
    "\n",
    "        return best_slice\n",
    "\n",
    "    def process_dicom_image(self, path: str, resize=True, target_size=(512, 512)) -> torch.Tensor:\n",
    "        dicom_file = pydicom.dcmread(path)\n",
    "        image = torch.tensor(dicom_file.pixel_array, dtype=torch.float32).to(self.device)\n",
    "        \n",
    "        # Skip invalid images\n",
    "        if 0 in image.shape:\n",
    "            print(f\"Skipping image due to invalid shape: {image.shape}\")\n",
    "            return torch.zeros(target_size, dtype=torch.float32).to(self.device)\n",
    "        \n",
    "        # Use autocast to optimize tensor operations\n",
    "        with torch.amp.autocast(device_type=self.device.type, dtype=torch.float16):\n",
    "            # Normalize the image: Zero mean and unit variance\n",
    "            mean = image.mean()\n",
    "            std = image.std()\n",
    "            image = (image - mean) / (std + 1e-7)\n",
    "\n",
    "            # Apply 95% clipping\n",
    "            lower_bound = torch.quantile(image, 0.025)\n",
    "            upper_bound = torch.quantile(image, 0.975)\n",
    "            image = torch.clamp(image, lower_bound, upper_bound)\n",
    "\n",
    "            # Normalize again after clipping\n",
    "            mean = image.mean()\n",
    "            std = image.std()\n",
    "            image = (image - mean) / (std + 1e-7)\n",
    "\n",
    "            # Resize the image to the target size\n",
    "            if resize:\n",
    "                image = image.unsqueeze(0)  # Add channel dimension for resizing\n",
    "                image = torch.nn.functional.interpolate(image.unsqueeze(0), size=target_size, mode='bilinear', align_corners=False).squeeze(0).squeeze(0)\n",
    "        \n",
    "        return image\n",
    "\n"
   ]
  },
  {
   "cell_type": "code",
   "execution_count": 43,
   "metadata": {},
   "outputs": [],
   "source": [
    "class CachedDataset(Dataset):\n",
    "    def __init__(self, original_dataset):\n",
    "        self.data = []\n",
    "        for i in range(len(original_dataset)):\n",
    "            sample = original_dataset[i]\n",
    "            self.data.append(sample[\"im\"])\n",
    "\n",
    "    def __len__(self):\n",
    "        return len(self.data)\n",
    "\n",
    "    def __getitem__(self, idx):\n",
    "        return {\"im\": self.data[idx]}"
   ]
  },
  {
   "cell_type": "code",
   "execution_count": 44,
   "metadata": {},
   "outputs": [
    {
     "data": {
      "text/plain": [
       "device(type='cuda')"
      ]
     },
     "execution_count": 44,
     "metadata": {},
     "output_type": "execute_result"
    }
   ],
   "source": [
    "# Define the device to be used for training\n",
    "device = torch.device(\"cuda\" if torch.cuda.is_available() else \"cpu\")\n",
    "device\n"
   ]
  },
  {
   "cell_type": "code",
   "execution_count": 45,
   "metadata": {},
   "outputs": [],
   "source": [
    "batch_size = 1\n",
    "num_workers = 0\n",
    "\n",
    "# Select a few subjects (e.g., the first three subjects)\n",
    "train_subset_df = train_patient_dirs[:80]\n",
    "# Initialize the dataset with the selected subjects\n",
    "train_ds = HandScanDataset2(data_dir=train_subset_df, transform=train_transforms, device=torch.device(\"cuda\"))\n",
    "# Create a data loader for testing\n",
    "train_loader = DataLoader(train_ds, batch_size=batch_size, shuffle=True, num_workers=num_workers)\n",
    "\n",
    "# Select a few subjects (e.g., the first three subjects)\n",
    "valid_subset_df = valid_patient_dirs[:20]\n",
    "# Initialize the dataset with the selected subjects\n",
    "train_dataset = HandScanDataset2( data_dir=valid_subset_df, transform=test_transforms, device=torch.device(\"cuda\"))\n",
    "# Create a data loader for testing\n",
    "test_loader = DataLoader(train_dataset, batch_size=batch_size, shuffle=False, num_workers=num_workers)\n"
   ]
  },
  {
   "cell_type": "code",
   "execution_count": 46,
   "metadata": {},
   "outputs": [
    {
     "data": {
      "text/plain": [
       "'# Batch size and number of workers\\nbatch_size = 1\\nnum_workers = 0\\n\\n# Select a few subjects for training (e.g., the first 80 subjects)\\ntrain_subset_df = train_df.iloc[:80]\\ntrain_dataset = HandScanDataset2(data_dir=training_data_dir, transform=train_transforms, device=torch.device(\"cpu\"))  # Use CPU for initial loading\\n\\n# Cache the training dataset in memory\\ncached_train_dataset = CachedDataset(train_dataset)\\n\\n# Create a DataLoader for the cached training dataset\\ntrain_loader = DataLoader(cached_train_dataset, batch_size=batch_size, shuffle=True, num_workers=num_workers)\\n\\n# Select a few subjects for validation (e.g., the first 20 subjects)\\nvalid_subset_df = valid_df.iloc[:20]\\nvalid_dataset = HandScanDataset2(data_dir=training_data_dir, transform=test_transforms, device=torch.device(\"cpu\"))  # Use CPU for initial loading\\n\\n# Cache the validation dataset in memory\\ncached_valid_dataset = CachedDataset(valid_dataset)\\n\\n# Create a DataLoader for the cached validation dataset\\ntest_loader = DataLoader(cached_valid_dataset, batch_size=batch_size, shuffle=False, num_workers=num_workers)\\n\\n# After creating the DataLoader, move the data to the GPU\\nfor i in range(len(cached_train_dataset)):\\n    cached_train_dataset.data[i] = cached_train_dataset.data[i].to(torch.device(\"cuda\"))\\n\\nfor i in range(len(cached_valid_dataset)):\\n    cached_valid_dataset.data[i] = cached_valid_dataset.data[i].to(torch.device(\"cuda\"))\\n'"
      ]
     },
     "execution_count": 46,
     "metadata": {},
     "output_type": "execute_result"
    }
   ],
   "source": [
    "'''# Batch size and number of workers\n",
    "batch_size = 1\n",
    "num_workers = 0\n",
    "\n",
    "# Select a few subjects for training (e.g., the first 80 subjects)\n",
    "train_subset_df = train_df.iloc[:80]\n",
    "train_dataset = HandScanDataset2(data_dir=training_data_dir, transform=train_transforms, device=torch.device(\"cpu\"))  # Use CPU for initial loading\n",
    "\n",
    "# Cache the training dataset in memory\n",
    "cached_train_dataset = CachedDataset(train_dataset)\n",
    "\n",
    "# Create a DataLoader for the cached training dataset\n",
    "train_loader = DataLoader(cached_train_dataset, batch_size=batch_size, shuffle=True, num_workers=num_workers)\n",
    "\n",
    "# Select a few subjects for validation (e.g., the first 20 subjects)\n",
    "valid_subset_df = valid_df.iloc[:20]\n",
    "valid_dataset = HandScanDataset2(data_dir=training_data_dir, transform=test_transforms, device=torch.device(\"cpu\"))  # Use CPU for initial loading\n",
    "\n",
    "# Cache the validation dataset in memory\n",
    "cached_valid_dataset = CachedDataset(valid_dataset)\n",
    "\n",
    "# Create a DataLoader for the cached validation dataset\n",
    "test_loader = DataLoader(cached_valid_dataset, batch_size=batch_size, shuffle=False, num_workers=num_workers)\n",
    "\n",
    "# After creating the DataLoader, move the data to the GPU\n",
    "for i in range(len(cached_train_dataset)):\n",
    "    cached_train_dataset.data[i] = cached_train_dataset.data[i].to(torch.device(\"cuda\"))\n",
    "\n",
    "for i in range(len(cached_valid_dataset)):\n",
    "    cached_valid_dataset.data[i] = cached_valid_dataset.data[i].to(torch.device(\"cuda\"))\n",
    "'''"
   ]
  },
  {
   "cell_type": "code",
   "execution_count": 47,
   "metadata": {},
   "outputs": [],
   "source": [
    "class EarlyStopper:\n",
    "    def __init__(self, patience=1, min_delta=0):\n",
    "        self.patience = patience\n",
    "        self.min_delta = min_delta\n",
    "        self.counter = 0\n",
    "        self.min_validation_loss = float('inf')\n",
    "        self.activation_count = 0\n",
    "\n",
    "    def early_stop(self, validation_loss):\n",
    "        if validation_loss < self.min_validation_loss:\n",
    "            self.min_validation_loss = validation_loss\n",
    "            self.counter = 0\n",
    "        elif validation_loss > (self.min_validation_loss + self.min_delta):\n",
    "            self.counter += 1\n",
    "            if self.counter >= self.patience:\n",
    "                self.activation_count += 1\n",
    "                return True\n",
    "        return False\n",
    "\n",
    "# Instantiate EarlyStopper\n",
    "early_stopper = EarlyStopper(patience=3, min_delta=0.001)"
   ]
  },
  {
   "cell_type": "code",
   "execution_count": 48,
   "metadata": {},
   "outputs": [
    {
     "data": {
      "text/plain": [
       "'def train(dict_key_for_training, max_epochs=10, learning_rate=1e-3):\\n    model = AutoEncoder(\\n        spatial_dims=3,\\n        in_channels=1,\\n        out_channels=1,\\n        channels=(4, 8, 16, 32),\\n        strides=(2, 2, 2, 2),\\n    ).to(device)\\n\\n    # Create loss function and optimizer\\n    loss_function = torch.nn.MSELoss()\\n    optimizer = torch.optim.Adam(model.parameters(), learning_rate)\\n\\n    epoch_loss_values = []\\n\\n    t = trange(max_epochs, desc=f\"{dict_key_for_training} -- epoch 0, avg loss: inf\", leave=True)\\n    for epoch in t:\\n        model.train()\\n        epoch_loss = 0\\n        step = 0\\n        for batch_data in train_loader:\\n            step += 1\\n\\n            # Check if the key exists in batch_data\\n            if dict_key_for_training not in batch_data:\\n                raise KeyError(f\"Key \\'{dict_key_for_training}\\' not found in batch data. Available keys: {batch_data.keys()}\")\\n\\n            inputs = batch_data[dict_key_for_training].squeeze(dim=2).to(device)\\n            optimizer.zero_grad()\\n            outputs = model(inputs)\\n\\n            # Ensure the \"orig\" key is present\\n            if \"orig\" not in batch_data:\\n                raise KeyError(\"\\'orig\\' key not found in batch data. Available keys: {batch_data.keys()}\")\\n            loss = loss_function(outputs, batch_data[\"orig\"].to(device))\\n            loss.backward()\\n            optimizer.step()\\n            epoch_loss += loss.item()\\n        \\n        epoch_loss /= step\\n        epoch_loss_values.append(epoch_loss)\\n        t.set_description(\\n            f\"{dict_key_for_training} -- epoch {epoch + 1}\" + f\", average loss: {epoch_loss:.4f}\"\\n        )\\n    \\n    return model, epoch_loss_values\\n'"
      ]
     },
     "execution_count": 48,
     "metadata": {},
     "output_type": "execute_result"
    }
   ],
   "source": [
    "'''def train(dict_key_for_training, max_epochs=10, learning_rate=1e-3):\n",
    "    model = AutoEncoder(\n",
    "        spatial_dims=3,\n",
    "        in_channels=1,\n",
    "        out_channels=1,\n",
    "        channels=(4, 8, 16, 32),\n",
    "        strides=(2, 2, 2, 2),\n",
    "    ).to(device)\n",
    "\n",
    "    # Create loss function and optimizer\n",
    "    loss_function = torch.nn.MSELoss()\n",
    "    optimizer = torch.optim.Adam(model.parameters(), learning_rate)\n",
    "\n",
    "    epoch_loss_values = []\n",
    "\n",
    "    t = trange(max_epochs, desc=f\"{dict_key_for_training} -- epoch 0, avg loss: inf\", leave=True)\n",
    "    for epoch in t:\n",
    "        model.train()\n",
    "        epoch_loss = 0\n",
    "        step = 0\n",
    "        for batch_data in train_loader:\n",
    "            step += 1\n",
    "\n",
    "            # Check if the key exists in batch_data\n",
    "            if dict_key_for_training not in batch_data:\n",
    "                raise KeyError(f\"Key '{dict_key_for_training}' not found in batch data. Available keys: {batch_data.keys()}\")\n",
    "\n",
    "            inputs = batch_data[dict_key_for_training].squeeze(dim=2).to(device)\n",
    "            optimizer.zero_grad()\n",
    "            outputs = model(inputs)\n",
    "\n",
    "            # Ensure the \"orig\" key is present\n",
    "            if \"orig\" not in batch_data:\n",
    "                raise KeyError(\"'orig' key not found in batch data. Available keys: {batch_data.keys()}\")\n",
    "            loss = loss_function(outputs, batch_data[\"orig\"].to(device))\n",
    "            loss.backward()\n",
    "            optimizer.step()\n",
    "            epoch_loss += loss.item()\n",
    "        \n",
    "        epoch_loss /= step\n",
    "        epoch_loss_values.append(epoch_loss)\n",
    "        t.set_description(\n",
    "            f\"{dict_key_for_training} -- epoch {epoch + 1}\" + f\", average loss: {epoch_loss:.4f}\"\n",
    "        )\n",
    "    \n",
    "    return model, epoch_loss_values\n",
    "'''"
   ]
  },
  {
   "cell_type": "code",
   "execution_count": 49,
   "metadata": {},
   "outputs": [
    {
     "data": {
      "text/plain": [
       "'output_dir = \"./output\"\\nlog_dir = \"./logs\"\\n\\n# Set up basic logging\\nlogging.basicConfig(level=logging.INFO)\\nlogger = logging.getLogger(\"swin_transformer_3d\")\\n\\n# Create a TensorBoard writer\\nwriter = SummaryWriter(log_dir=log_dir)\\n\\n# Contrastive Loss Function\\ndef contrastive_loss(zsim, zlabel, alpha=0.05):\\n    bce_loss = nn.BCEWithLogitsLoss()\\n    return alpha * bce_loss(zsim, zlabel)\\n\\ndef train(dict_key_for_training, max_epochs=10, learning_rate=1e-3, alpha=0.05, patience=5):\\n    model = AutoEncoder(\\n        spatial_dims=3,\\n        in_channels=1,\\n        out_channels=1,\\n        channels=(4, 8, 16, 32),\\n        strides=(2, 2, 2, 2),\\n    ).to(device)\\n\\n    loss_function = nn.MSELoss()\\n    optimizer = optim.Adam(model.parameters(), lr=learning_rate)\\n    early_stopper = EarlyStopper(patience=patience)\\n\\n    epoch_loss_values = []\\n\\n    for epoch in range(max_epochs):\\n        model.train()\\n        epoch_loss = 0\\n        step = 0\\n        for batch_data in train_loader:\\n            step += 1\\n\\n            if dict_key_for_training not in batch_data:\\n                raise KeyError(f\"Key \\'{dict_key_for_training}\\' not found in batch data. Available keys: {batch_data.keys()}\")\\n\\n            inputs = batch_data[dict_key_for_training].squeeze(dim=2).to(device)\\n            optimizer.zero_grad()\\n            outputs = model(inputs)\\n\\n            if \"orig\" not in batch_data:\\n                raise KeyError(\"\\'orig\\' key not found in batch data. Available keys: {batch_data.keys()}\")\\n\\n            loss = loss_function(outputs, batch_data[\"orig\"].to(device))\\n            loss.backward()\\n            optimizer.step()\\n            epoch_loss += loss.item()\\n\\n        epoch_loss /= step\\n        epoch_loss_values.append(epoch_loss)\\n\\n        logger.info(f\"Epoch {epoch + 1}/{max_epochs}, Loss: {epoch_loss:.4f}\")\\n\\n        # Validation loop\\n        total_val_loss = 0.0\\n        model.eval()\\n        with torch.no_grad():\\n            for batch_data in test_loader:\\n                inputs = batch_data[dict_key_for_training].squeeze(dim=2).to(device)\\n                outputs = model(inputs)\\n\\n                loss_L1 = loss_function(outputs, batch_data[\"orig\"].to(device))\\n                total_val_loss += loss_L1.item()\\n\\n        avg_val_loss = total_val_loss / len(test_loader)\\n        logger.info(f\"Validation Loss: {avg_val_loss:.4f}\")\\n\\n        # Early stopping check\\n        if early_stopper.early_stop(avg_val_loss):\\n            if early_stopper.activation_count == 1:\\n                logger.info(f\"\\nEarly stopping criteria reached!\\nSaving model parameters to {output_dir}/optimal_model_weights_epoch_{epoch + 1}.pth\\n\")\\n                opt_model_filepath = f\"{output_dir}/optimal_model_weights_epoch_{epoch + 1}.pth\"\\n                torch.save(model.state_dict(), opt_model_filepath)\\n\\n        # Logging to TensorBoard\\n        writer.add_scalar(\\'Loss/train\\', epoch_loss, epoch)\\n        writer.add_scalar(\\'Loss/validation\\', avg_val_loss, epoch)\\n\\n    return model, epoch_loss_values\\n'"
      ]
     },
     "execution_count": 49,
     "metadata": {},
     "output_type": "execute_result"
    }
   ],
   "source": [
    "'''output_dir = \"./output\"\n",
    "log_dir = \"./logs\"\n",
    "\n",
    "# Set up basic logging\n",
    "logging.basicConfig(level=logging.INFO)\n",
    "logger = logging.getLogger(\"swin_transformer_3d\")\n",
    "\n",
    "# Create a TensorBoard writer\n",
    "writer = SummaryWriter(log_dir=log_dir)\n",
    "\n",
    "# Contrastive Loss Function\n",
    "def contrastive_loss(zsim, zlabel, alpha=0.05):\n",
    "    bce_loss = nn.BCEWithLogitsLoss()\n",
    "    return alpha * bce_loss(zsim, zlabel)\n",
    "\n",
    "def train(dict_key_for_training, max_epochs=10, learning_rate=1e-3, alpha=0.05, patience=5):\n",
    "    model = AutoEncoder(\n",
    "        spatial_dims=3,\n",
    "        in_channels=1,\n",
    "        out_channels=1,\n",
    "        channels=(4, 8, 16, 32),\n",
    "        strides=(2, 2, 2, 2),\n",
    "    ).to(device)\n",
    "\n",
    "    loss_function = nn.MSELoss()\n",
    "    optimizer = optim.Adam(model.parameters(), lr=learning_rate)\n",
    "    early_stopper = EarlyStopper(patience=patience)\n",
    "\n",
    "    epoch_loss_values = []\n",
    "\n",
    "    for epoch in range(max_epochs):\n",
    "        model.train()\n",
    "        epoch_loss = 0\n",
    "        step = 0\n",
    "        for batch_data in train_loader:\n",
    "            step += 1\n",
    "\n",
    "            if dict_key_for_training not in batch_data:\n",
    "                raise KeyError(f\"Key '{dict_key_for_training}' not found in batch data. Available keys: {batch_data.keys()}\")\n",
    "\n",
    "            inputs = batch_data[dict_key_for_training].squeeze(dim=2).to(device)\n",
    "            optimizer.zero_grad()\n",
    "            outputs = model(inputs)\n",
    "\n",
    "            if \"orig\" not in batch_data:\n",
    "                raise KeyError(\"'orig' key not found in batch data. Available keys: {batch_data.keys()}\")\n",
    "\n",
    "            loss = loss_function(outputs, batch_data[\"orig\"].to(device))\n",
    "            loss.backward()\n",
    "            optimizer.step()\n",
    "            epoch_loss += loss.item()\n",
    "\n",
    "        epoch_loss /= step\n",
    "        epoch_loss_values.append(epoch_loss)\n",
    "\n",
    "        logger.info(f\"Epoch {epoch + 1}/{max_epochs}, Loss: {epoch_loss:.4f}\")\n",
    "\n",
    "        # Validation loop\n",
    "        total_val_loss = 0.0\n",
    "        model.eval()\n",
    "        with torch.no_grad():\n",
    "            for batch_data in test_loader:\n",
    "                inputs = batch_data[dict_key_for_training].squeeze(dim=2).to(device)\n",
    "                outputs = model(inputs)\n",
    "\n",
    "                loss_L1 = loss_function(outputs, batch_data[\"orig\"].to(device))\n",
    "                total_val_loss += loss_L1.item()\n",
    "\n",
    "        avg_val_loss = total_val_loss / len(test_loader)\n",
    "        logger.info(f\"Validation Loss: {avg_val_loss:.4f}\")\n",
    "\n",
    "        # Early stopping check\n",
    "        if early_stopper.early_stop(avg_val_loss):\n",
    "            if early_stopper.activation_count == 1:\n",
    "                logger.info(f\"\\nEarly stopping criteria reached!\\nSaving model parameters to {output_dir}/optimal_model_weights_epoch_{epoch + 1}.pth\\n\")\n",
    "                opt_model_filepath = f\"{output_dir}/optimal_model_weights_epoch_{epoch + 1}.pth\"\n",
    "                torch.save(model.state_dict(), opt_model_filepath)\n",
    "\n",
    "        # Logging to TensorBoard\n",
    "        writer.add_scalar('Loss/train', epoch_loss, epoch)\n",
    "        writer.add_scalar('Loss/validation', avg_val_loss, epoch)\n",
    "\n",
    "    return model, epoch_loss_values\n",
    "'''"
   ]
  },
  {
   "cell_type": "code",
   "execution_count": 50,
   "metadata": {},
   "outputs": [
    {
     "data": {
      "text/plain": [
       "'import logging\\nimport torch\\nimport torch.nn as nn\\nimport torch.optim as optim\\nfrom torch.utils.tensorboard import SummaryWriter\\nfrom monai.networks.nets import SwinUNETR  # Import SwinUNETR from MONAI\\nfrom monai.data import DataLoader\\nfrom monai.utils import set_determinism\\n\\n# Initialize paths\\noutput_dir = \"./output\"\\nlog_dir = \"./logs\"\\n\\n# Set up basic logging\\nlogging.basicConfig(level=logging.INFO)\\nlogger = logging.getLogger(\"swin_transformer_3d\")\\n\\n# Create a TensorBoard writer\\nwriter = SummaryWriter(log_dir=log_dir)\\n\\n# Define the Contrastive Loss Function\\ndef contrastive_loss(zsim, zlabel, alpha=0.05):\\n    bce_loss = nn.BCEWithLogitsLoss()\\n    return alpha * bce_loss(zsim, zlabel)\\n\\n\\n# Training function using SwinUNETR\\ndef train(train_loader, test_loader, max_epochs=10, learning_rate=1e-3, patience=5):\\n    # Initialize the SwinUNETR model\\n    print(\\'initilaise model\\')\\n    model = SwinUNETR(\\n        img_size=(4, 512, 352), \\n        in_channels=1,\\n        out_channels=1,\\n        feature_size=48,\\n        spatial_dims=3,\\n        window_size=(1, 7, 7)\\n    ).to(device)\\n\\n    # Define the loss function and optimizer\\n    \\n    loss_function = nn.MSELoss()\\n    print(\\'defined loss\\')\\n    optimizer = optim.Adam(model.parameters(), lr=learning_rate)\\n    print(\\'defined optimizer\\')\\n    early_stopper = EarlyStopper(patience=patience)\\n\\n    epoch_loss_values = []\\n\\n    for epoch in range(max_epochs):\\n        model.train()\\n        epoch_loss = 0\\n        step = 0\\n        for batch_data in train_loader:\\n            step += 1\\n\\n            inputs = batch_data[\"im\"].to(device)\\n            print(inputs.shape)\\n            optimizer.zero_grad()\\n            outputs = model(inputs)\\n            print(outputs.shape)\\n\\n            loss = loss_function(outputs, batch_data[\"orig\"].to(device))\\n            print(\"calculated loss\")\\n            loss.backward()\\n            optimizer.step()\\n            epoch_loss += loss.item()\\n\\n        epoch_loss /= step\\n        epoch_loss_values.append(epoch_loss)\\n\\n        logger.info(f\"Epoch {epoch + 1}/{max_epochs}, Loss: {epoch_loss:.4f}\")\\n\\n        # Validation loop\\n        total_val_loss = 0.0\\n        model.eval()\\n        with torch.no_grad():\\n            for batch_data in test_loader:\\n                inputs = batch_data[\"im\"].to(device)\\n                outputs = model(inputs)\\n\\n                loss_L1 = loss_function(outputs, batch_data[\"orig\"].to(device))\\n                total_val_loss += loss_L1.item()\\n\\n        avg_val_loss = total_val_loss / len(test_loader)\\n        logger.info(f\"Validation Loss: {avg_val_loss:.4f}\")\\n\\n        # Early stopping check\\n        if early_stopper.early_stop(avg_val_loss):\\n            # Save model parameters if early stopping criteria are met for the first time\\n            if early_stopper.activation_count == 1:\\n                logger.info(f\"\\nEarly stopping criteria reached!\\nSaving model parameters to {output_dir}/optimal_model_weights_epoch_{epoch + 1}.pth\\n\")\\n                # Save network parameters and losses\\n                opt_model_filepath = f\"{output_dir}/optimal_model_weights_epoch_{epoch + 1}.pth\"\\n                torch.save(model.state_dict(), opt_model_filepath)\\n\\n        # Logging to TensorBoard\\n        writer.add_scalar(\\'Loss/train\\', epoch_loss, epoch)\\n        writer.add_scalar(\\'Loss/validation\\', avg_val_loss, epoch)\\n\\n    return model, epoch_loss_values\\n\\n'"
      ]
     },
     "execution_count": 50,
     "metadata": {},
     "output_type": "execute_result"
    }
   ],
   "source": [
    "'''import logging\n",
    "import torch\n",
    "import torch.nn as nn\n",
    "import torch.optim as optim\n",
    "from torch.utils.tensorboard import SummaryWriter\n",
    "from monai.networks.nets import SwinUNETR  # Import SwinUNETR from MONAI\n",
    "from monai.data import DataLoader\n",
    "from monai.utils import set_determinism\n",
    "\n",
    "# Initialize paths\n",
    "output_dir = \"./output\"\n",
    "log_dir = \"./logs\"\n",
    "\n",
    "# Set up basic logging\n",
    "logging.basicConfig(level=logging.INFO)\n",
    "logger = logging.getLogger(\"swin_transformer_3d\")\n",
    "\n",
    "# Create a TensorBoard writer\n",
    "writer = SummaryWriter(log_dir=log_dir)\n",
    "\n",
    "# Define the Contrastive Loss Function\n",
    "def contrastive_loss(zsim, zlabel, alpha=0.05):\n",
    "    bce_loss = nn.BCEWithLogitsLoss()\n",
    "    return alpha * bce_loss(zsim, zlabel)\n",
    "\n",
    "\n",
    "# Training function using SwinUNETR\n",
    "def train(train_loader, test_loader, max_epochs=10, learning_rate=1e-3, patience=5):\n",
    "    # Initialize the SwinUNETR model\n",
    "    print('initilaise model')\n",
    "    model = SwinUNETR(\n",
    "        img_size=(4, 512, 352), \n",
    "        in_channels=1,\n",
    "        out_channels=1,\n",
    "        feature_size=48,\n",
    "        spatial_dims=3,\n",
    "        window_size=(1, 7, 7)\n",
    "    ).to(device)\n",
    "\n",
    "    # Define the loss function and optimizer\n",
    "    \n",
    "    loss_function = nn.MSELoss()\n",
    "    print('defined loss')\n",
    "    optimizer = optim.Adam(model.parameters(), lr=learning_rate)\n",
    "    print('defined optimizer')\n",
    "    early_stopper = EarlyStopper(patience=patience)\n",
    "\n",
    "    epoch_loss_values = []\n",
    "\n",
    "    for epoch in range(max_epochs):\n",
    "        model.train()\n",
    "        epoch_loss = 0\n",
    "        step = 0\n",
    "        for batch_data in train_loader:\n",
    "            step += 1\n",
    "\n",
    "            inputs = batch_data[\"im\"].to(device)\n",
    "            print(inputs.shape)\n",
    "            optimizer.zero_grad()\n",
    "            outputs = model(inputs)\n",
    "            print(outputs.shape)\n",
    "\n",
    "            loss = loss_function(outputs, batch_data[\"orig\"].to(device))\n",
    "            print(\"calculated loss\")\n",
    "            loss.backward()\n",
    "            optimizer.step()\n",
    "            epoch_loss += loss.item()\n",
    "\n",
    "        epoch_loss /= step\n",
    "        epoch_loss_values.append(epoch_loss)\n",
    "\n",
    "        logger.info(f\"Epoch {epoch + 1}/{max_epochs}, Loss: {epoch_loss:.4f}\")\n",
    "\n",
    "        # Validation loop\n",
    "        total_val_loss = 0.0\n",
    "        model.eval()\n",
    "        with torch.no_grad():\n",
    "            for batch_data in test_loader:\n",
    "                inputs = batch_data[\"im\"].to(device)\n",
    "                outputs = model(inputs)\n",
    "\n",
    "                loss_L1 = loss_function(outputs, batch_data[\"orig\"].to(device))\n",
    "                total_val_loss += loss_L1.item()\n",
    "\n",
    "        avg_val_loss = total_val_loss / len(test_loader)\n",
    "        logger.info(f\"Validation Loss: {avg_val_loss:.4f}\")\n",
    "\n",
    "        # Early stopping check\n",
    "        if early_stopper.early_stop(avg_val_loss):\n",
    "            # Save model parameters if early stopping criteria are met for the first time\n",
    "            if early_stopper.activation_count == 1:\n",
    "                logger.info(f\"\\nEarly stopping criteria reached!\\nSaving model parameters to {output_dir}/optimal_model_weights_epoch_{epoch + 1}.pth\\n\")\n",
    "                # Save network parameters and losses\n",
    "                opt_model_filepath = f\"{output_dir}/optimal_model_weights_epoch_{epoch + 1}.pth\"\n",
    "                torch.save(model.state_dict(), opt_model_filepath)\n",
    "\n",
    "        # Logging to TensorBoard\n",
    "        writer.add_scalar('Loss/train', epoch_loss, epoch)\n",
    "        writer.add_scalar('Loss/validation', avg_val_loss, epoch)\n",
    "\n",
    "    return model, epoch_loss_values\n",
    "\n",
    "'''"
   ]
  },
  {
   "cell_type": "code",
   "execution_count": 51,
   "metadata": {},
   "outputs": [
    {
     "data": {
      "text/plain": [
       "'# Set hyperparameters\\nmax_epochs = 10\\nlearning_rate = 1e-3\\npatience = 5\\nmodels = []\\nepoch_losses = []\\n\\n# Run the training function\\nmodel, epoch_loss = train(train_loader, test_loader, max_epochs=max_epochs, learning_rate=learning_rate, patience=patience)\\n\\n# Store the trained model and loss values\\nmodels.append(model)\\nepoch_losses.append(epoch_loss)\\n# The model and epoch_loss are returned, and you can save the model or analyze the loss further'"
      ]
     },
     "execution_count": 51,
     "metadata": {},
     "output_type": "execute_result"
    }
   ],
   "source": [
    "'''# Set hyperparameters\n",
    "max_epochs = 10\n",
    "learning_rate = 1e-3\n",
    "patience = 5\n",
    "models = []\n",
    "epoch_losses = []\n",
    "\n",
    "# Run the training function\n",
    "model, epoch_loss = train(train_loader, test_loader, max_epochs=max_epochs, learning_rate=learning_rate, patience=patience)\n",
    "\n",
    "# Store the trained model and loss values\n",
    "models.append(model)\n",
    "epoch_losses.append(epoch_loss)\n",
    "# The model and epoch_loss are returned, and you can save the model or analyze the loss further'''\n"
   ]
  },
  {
   "cell_type": "code",
   "execution_count": 52,
   "metadata": {},
   "outputs": [
    {
     "data": {
      "text/plain": [
       "'max_epochs = 10\\nlearning_rate = 0.00005\\nalpha = 0.05\\npatience = 5  # Early stopping patience\\ntraining_types = [\"orig\", \"gaus\", \"s&p\"]\\nmodels = []\\nepoch_losses = []\\n\\nfor training_type in training_types:\\n    print(f\"Training with {training_type} data...\")\\n\\n    # Call the train function\\n    model, epoch_loss = train(\\n        dict_key_for_training=training_type,\\n        train_loader=train_loader,\\n        test_loader=test_loader,\\n        max_epochs=max_epochs,\\n        learning_rate=learning_rate,\\n        alpha=alpha,\\n        patience=patience\\n    )\\n\\n    # Store the trained model and loss values\\n    models.append(model)\\n    epoch_losses.append(epoch_loss)\\n\\n    print(f\"Finished training with {training_type} data.\")'"
      ]
     },
     "execution_count": 52,
     "metadata": {},
     "output_type": "execute_result"
    }
   ],
   "source": [
    "'''max_epochs = 10\n",
    "learning_rate = 0.00005\n",
    "alpha = 0.05\n",
    "patience = 5  # Early stopping patience\n",
    "training_types = [\"orig\", \"gaus\", \"s&p\"]\n",
    "models = []\n",
    "epoch_losses = []\n",
    "\n",
    "for training_type in training_types:\n",
    "    print(f\"Training with {training_type} data...\")\n",
    "\n",
    "    # Call the train function\n",
    "    model, epoch_loss = train(\n",
    "        dict_key_for_training=training_type,\n",
    "        train_loader=train_loader,\n",
    "        test_loader=test_loader,\n",
    "        max_epochs=max_epochs,\n",
    "        learning_rate=learning_rate,\n",
    "        alpha=alpha,\n",
    "        patience=patience\n",
    "    )\n",
    "\n",
    "    # Store the trained model and loss values\n",
    "    models.append(model)\n",
    "    epoch_losses.append(epoch_loss)\n",
    "\n",
    "    print(f\"Finished training with {training_type} data.\")'''\n"
   ]
  },
  {
   "cell_type": "code",
   "execution_count": 53,
   "metadata": {},
   "outputs": [
    {
     "data": {
      "text/plain": [
       "'max_epochs = 1000\\nlearning_rate = 1e-3\\nalpha = 0.05\\npatience = 5  # Early stopping patience\\ntraining_types = [\"orig\", \"gaus\", \"s&p\"]\\nmodels = []\\nepoch_losses = []\\n\\nfor training_type in training_types:\\n    print(f\"Training with {training_type} data...\")\\n\\n    # Call the train function\\n    model, epoch_loss = train(\\n        dict_key_for_training=training_type,\\n        max_epochs=max_epochs,\\n        learning_rate=learning_rate,\\n        alpha=alpha,\\n        patience=patience\\n    )\\n\\n    # Store the trained model and loss values\\n    models.append(model)\\n    epoch_losses.append(epoch_loss)\\n\\n    print(f\"Finished training with {training_type} data.\")\\n'"
      ]
     },
     "execution_count": 53,
     "metadata": {},
     "output_type": "execute_result"
    }
   ],
   "source": [
    "'''max_epochs = 1000\n",
    "learning_rate = 1e-3\n",
    "alpha = 0.05\n",
    "patience = 5  # Early stopping patience\n",
    "training_types = [\"orig\", \"gaus\", \"s&p\"]\n",
    "models = []\n",
    "epoch_losses = []\n",
    "\n",
    "for training_type in training_types:\n",
    "    print(f\"Training with {training_type} data...\")\n",
    "\n",
    "    # Call the train function\n",
    "    model, epoch_loss = train(\n",
    "        dict_key_for_training=training_type,\n",
    "        max_epochs=max_epochs,\n",
    "        learning_rate=learning_rate,\n",
    "        alpha=alpha,\n",
    "        patience=patience\n",
    "    )\n",
    "\n",
    "    # Store the trained model and loss values\n",
    "    models.append(model)\n",
    "    epoch_losses.append(epoch_loss)\n",
    "\n",
    "    print(f\"Finished training with {training_type} data.\")\n",
    "'''"
   ]
  },
  {
   "cell_type": "code",
   "execution_count": 54,
   "metadata": {},
   "outputs": [
    {
     "data": {
      "text/plain": [
       "'max_epochs = 10\\ntraining_types = [\"orig\", \"gaus\", \"s&p\"]\\nmodels = []\\nepoch_losses = []\\nfor training_type in training_types:\\n    model, epoch_loss = train(training_type, max_epochs=max_epochs)\\n    models.append(model)\\n    epoch_losses.append(epoch_loss)'"
      ]
     },
     "execution_count": 54,
     "metadata": {},
     "output_type": "execute_result"
    }
   ],
   "source": [
    "'''max_epochs = 10\n",
    "training_types = [\"orig\", \"gaus\", \"s&p\"]\n",
    "models = []\n",
    "epoch_losses = []\n",
    "for training_type in training_types:\n",
    "    model, epoch_loss = train(training_type, max_epochs=max_epochs)\n",
    "    models.append(model)\n",
    "    epoch_losses.append(epoch_loss)'''"
   ]
  },
  {
   "cell_type": "code",
   "execution_count": 55,
   "metadata": {},
   "outputs": [
    {
     "data": {
      "text/plain": [
       "'import torch\\nimport matplotlib.pyplot as plt\\n\\n# Function to get a single image from the dataset\\ndef get_single_im(ds):\\n    loader = torch.utils.data.DataLoader(ds, batch_size=1, num_workers=0, shuffle=True)\\n    itera = iter(loader)\\n    return next(itera)\\n\\n# Fetch a single image and its degraded versions\\ndata = get_single_im(train_ds)\\n\\n# Assuming you want to visualize the original and its degraded versions\\n# (e.g., \"orig\", \"gaus\", \"s&p\" keys in the data dictionary)\\nfor key in [\"orig\", \"gaus\", \"s&p\"]:\\n    im = data[key].squeeze()  # Remove any singleton dimensions, e.g., [1, 1, 512, 384] -> [512, 384]\\n    \\n    if im.ndim == 2:  # If it\\'s a 2D image, just plot it\\n        plt.figure()\\n        plt.imshow(im, cmap=\"gray\")\\n        plt.title(f\"{key}\")\\n        plt.show()\\n    \\n    elif im.ndim == 3:  # If it\\'s 3D (multi-channel), plot each channel separately\\n        for i in range(im.shape[0]):\\n            plt.figure()\\n            plt.imshow(im[i], cmap=\"gray\")\\n            plt.title(f\"{key} - Channel {i}\")\\n            plt.show()\\n'"
      ]
     },
     "execution_count": 55,
     "metadata": {},
     "output_type": "execute_result"
    }
   ],
   "source": [
    "'''import torch\n",
    "import matplotlib.pyplot as plt\n",
    "\n",
    "# Function to get a single image from the dataset\n",
    "def get_single_im(ds):\n",
    "    loader = torch.utils.data.DataLoader(ds, batch_size=1, num_workers=0, shuffle=True)\n",
    "    itera = iter(loader)\n",
    "    return next(itera)\n",
    "\n",
    "# Fetch a single image and its degraded versions\n",
    "data = get_single_im(train_ds)\n",
    "\n",
    "# Assuming you want to visualize the original and its degraded versions\n",
    "# (e.g., \"orig\", \"gaus\", \"s&p\" keys in the data dictionary)\n",
    "for key in [\"orig\", \"gaus\", \"s&p\"]:\n",
    "    im = data[key].squeeze()  # Remove any singleton dimensions, e.g., [1, 1, 512, 384] -> [512, 384]\n",
    "    \n",
    "    if im.ndim == 2:  # If it's a 2D image, just plot it\n",
    "        plt.figure()\n",
    "        plt.imshow(im, cmap=\"gray\")\n",
    "        plt.title(f\"{key}\")\n",
    "        plt.show()\n",
    "    \n",
    "    elif im.ndim == 3:  # If it's 3D (multi-channel), plot each channel separately\n",
    "        for i in range(im.shape[0]):\n",
    "            plt.figure()\n",
    "            plt.imshow(im[i], cmap=\"gray\")\n",
    "            plt.title(f\"{key} - Channel {i}\")\n",
    "            plt.show()\n",
    "'''"
   ]
  },
  {
   "cell_type": "code",
   "execution_count": 56,
   "metadata": {},
   "outputs": [
    {
     "data": {
      "text/plain": [
       "'# Get image original and its degraded versions\\ndef get_single_im(ds):\\n    loader = torch.utils.data.DataLoader(train_ds, batch_size=1, num_workers=0, shuffle=True)\\n    itera = iter(loader)\\n    return next(itera)\\n'"
      ]
     },
     "execution_count": 56,
     "metadata": {},
     "output_type": "execute_result"
    }
   ],
   "source": [
    "'''# Get image original and its degraded versions\n",
    "def get_single_im(ds):\n",
    "    loader = torch.utils.data.DataLoader(train_ds, batch_size=1, num_workers=0, shuffle=True)\n",
    "    itera = iter(loader)\n",
    "    return next(itera)\n",
    "'''"
   ]
  },
  {
   "cell_type": "code",
   "execution_count": 57,
   "metadata": {},
   "outputs": [
    {
     "data": {
      "text/plain": [
       "'for i in range(im.shape[0]):\\n    plt.figure()\\n    plt.imshow(im[i], cmap=\"gray\")\\n    plt.title(f\"Channel {i}\")\\n    plt.show()\\n'"
      ]
     },
     "execution_count": 57,
     "metadata": {},
     "output_type": "execute_result"
    }
   ],
   "source": [
    "'''for i in range(im.shape[0]):\n",
    "    plt.figure()\n",
    "    plt.imshow(im[i], cmap=\"gray\")\n",
    "    plt.title(f\"Channel {i}\")\n",
    "    plt.show()\n",
    "'''"
   ]
  },
  {
   "cell_type": "code",
   "execution_count": 58,
   "metadata": {},
   "outputs": [
    {
     "name": "stderr",
     "output_type": "stream",
     "text": [
      "monai.networks.nets.swin_unetr SwinUNETR.__init__:img_size: Argument `img_size` has been deprecated since version 1.3. It will be removed in version 1.5. The img_size argument is not required anymore and checks on the input size are run during forward().\n"
     ]
    },
    {
     "name": "stdout",
     "output_type": "stream",
     "text": [
      "2024-08-29 13:49:46,464 - INFO - Expected md5 is None, skip md5 check for file C:\\Users\\scmmw\\OneDrive - University of Leeds\\ssl_pretrained_weights.\n",
      "2024-08-29 13:49:46,464 - INFO - File exists: C:\\Users\\scmmw\\OneDrive - University of Leeds\\ssl_pretrained_weights, skipped downloading.\n"
     ]
    },
    {
     "name": "stderr",
     "output_type": "stream",
     "text": [
      "You are using `torch.load` with `weights_only=False` (the current default value), which uses the default pickle module implicitly. It is possible to construct malicious pickle data which will execute arbitrary code during unpickling (See https://github.com/pytorch/pytorch/blob/main/SECURITY.md#untrusted-models for more details). In a future release, the default value for `weights_only` will be flipped to `True`. This limits the functions that could be executed during unpickling. Arbitrary objects will no longer be allowed to be loaded via this mode unless they are explicitly allowlisted by the user via `torch.serialization.add_safe_globals`. We recommend you start setting `weights_only=True` for any use case where you don't have full control of the loaded file. Please open an issue on GitHub for any issues related to this experimental feature.\n"
     ]
    },
    {
     "name": "stdout",
     "output_type": "stream",
     "text": [
      "2024-08-29 13:49:47,478 - INFO - 'dst' model updated: 159 of 159 variables.\n"
     ]
    }
   ],
   "source": [
    "from monai.apps import download_url\n",
    "pre_training_weights_path='C:/Users/scmmw/OneDrive - University of Leeds/ssl_pretrained_weights'\n",
    "swin_model = SwinUNETR(\n",
    "    img_size=(32, 96, 96),\n",
    "    in_channels=1,\n",
    "    out_channels=1,  \n",
    "    feature_size=48,  # Match the pre-trained model\n",
    "    depths=(2, 2, 2, 2),  # Match the pre-trained model\n",
    "    num_heads=(3, 6, 12, 24),  # Match the pre-trained model\n",
    "    spatial_dims=3,\n",
    "    use_checkpoint=True  # You can keep this as True if you need it\n",
    ")\n",
    "swin_model = swin_model.to(torch.float32)\n",
    "swin_model = swin_model.to(device)\n",
    "\n",
    "resource = (\n",
    "    \"https://github.com/Project-MONAI/MONAI-extra-test-data/releases/download/0.8.1/ssl_pretrained_weights.pth\"\n",
    ")\n",
    "download_url(resource, pre_training_weights_path)\n",
    "ssl_weights = torch.load(pre_training_weights_path)[\"model\"]\n",
    "\n",
    "dst_dict, loaded, not_loaded = copy_model_state(swin_model, ssl_weights, filter_func=filter_swinunetr)"
   ]
  },
  {
   "cell_type": "code",
   "execution_count": 59,
   "metadata": {},
   "outputs": [
    {
     "name": "stdout",
     "output_type": "stream",
     "text": [
      "Fine-tuning layer: swinViT.layers3.0.blocks.0.norm1.weight\n",
      "Fine-tuning layer: swinViT.layers3.0.blocks.0.norm1.bias\n",
      "Fine-tuning layer: swinViT.layers3.0.blocks.0.attn.relative_position_bias_table\n",
      "Fine-tuning layer: swinViT.layers3.0.blocks.0.attn.qkv.weight\n",
      "Fine-tuning layer: swinViT.layers3.0.blocks.0.attn.qkv.bias\n"
     ]
    },
    {
     "name": "stdout",
     "output_type": "stream",
     "text": [
      "Fine-tuning layer: swinViT.layers3.0.blocks.0.attn.proj.weight\n",
      "Fine-tuning layer: swinViT.layers3.0.blocks.0.attn.proj.bias\n",
      "Fine-tuning layer: swinViT.layers3.0.blocks.0.norm2.weight\n",
      "Fine-tuning layer: swinViT.layers3.0.blocks.0.norm2.bias\n",
      "Fine-tuning layer: swinViT.layers3.0.blocks.0.mlp.linear1.weight\n",
      "Fine-tuning layer: swinViT.layers3.0.blocks.0.mlp.linear1.bias\n",
      "Fine-tuning layer: swinViT.layers3.0.blocks.0.mlp.linear2.weight\n",
      "Fine-tuning layer: swinViT.layers3.0.blocks.0.mlp.linear2.bias\n",
      "Fine-tuning layer: swinViT.layers3.0.blocks.1.norm1.weight\n",
      "Fine-tuning layer: swinViT.layers3.0.blocks.1.norm1.bias\n",
      "Fine-tuning layer: swinViT.layers3.0.blocks.1.attn.relative_position_bias_table\n",
      "Fine-tuning layer: swinViT.layers3.0.blocks.1.attn.qkv.weight\n",
      "Fine-tuning layer: swinViT.layers3.0.blocks.1.attn.qkv.bias\n",
      "Fine-tuning layer: swinViT.layers3.0.blocks.1.attn.proj.weight\n",
      "Fine-tuning layer: swinViT.layers3.0.blocks.1.attn.proj.bias\n",
      "Fine-tuning layer: swinViT.layers3.0.blocks.1.norm2.weight\n",
      "Fine-tuning layer: swinViT.layers3.0.blocks.1.norm2.bias\n",
      "Fine-tuning layer: swinViT.layers3.0.blocks.1.mlp.linear1.weight\n",
      "Fine-tuning layer: swinViT.layers3.0.blocks.1.mlp.linear1.bias\n",
      "Fine-tuning layer: swinViT.layers3.0.blocks.1.mlp.linear2.weight\n",
      "Fine-tuning layer: swinViT.layers3.0.blocks.1.mlp.linear2.bias\n",
      "Fine-tuning layer: swinViT.layers3.0.downsample.reduction.weight\n",
      "Fine-tuning layer: swinViT.layers3.0.downsample.norm.weight\n",
      "Fine-tuning layer: swinViT.layers3.0.downsample.norm.bias\n",
      "Fine-tuning layer: swinViT.layers4.0.blocks.0.norm1.weight\n",
      "Fine-tuning layer: swinViT.layers4.0.blocks.0.norm1.bias\n",
      "Fine-tuning layer: swinViT.layers4.0.blocks.0.attn.relative_position_bias_table\n",
      "Fine-tuning layer: swinViT.layers4.0.blocks.0.attn.qkv.weight\n",
      "Fine-tuning layer: swinViT.layers4.0.blocks.0.attn.qkv.bias\n",
      "Fine-tuning layer: swinViT.layers4.0.blocks.0.attn.proj.weight\n",
      "Fine-tuning layer: swinViT.layers4.0.blocks.0.attn.proj.bias\n",
      "Fine-tuning layer: swinViT.layers4.0.blocks.0.norm2.weight\n",
      "Fine-tuning layer: swinViT.layers4.0.blocks.0.norm2.bias\n",
      "Fine-tuning layer: swinViT.layers4.0.blocks.0.mlp.linear1.weight\n",
      "Fine-tuning layer: swinViT.layers4.0.blocks.0.mlp.linear1.bias\n",
      "Fine-tuning layer: swinViT.layers4.0.blocks.0.mlp.linear2.weight\n",
      "Fine-tuning layer: swinViT.layers4.0.blocks.0.mlp.linear2.bias\n",
      "Fine-tuning layer: swinViT.layers4.0.blocks.1.norm1.weight\n",
      "Fine-tuning layer: swinViT.layers4.0.blocks.1.norm1.bias\n",
      "Fine-tuning layer: swinViT.layers4.0.blocks.1.attn.relative_position_bias_table\n",
      "Fine-tuning layer: swinViT.layers4.0.blocks.1.attn.qkv.weight\n",
      "Fine-tuning layer: swinViT.layers4.0.blocks.1.attn.qkv.bias\n",
      "Fine-tuning layer: swinViT.layers4.0.blocks.1.attn.proj.weight\n",
      "Fine-tuning layer: swinViT.layers4.0.blocks.1.attn.proj.bias\n",
      "Fine-tuning layer: swinViT.layers4.0.blocks.1.norm2.weight\n",
      "Fine-tuning layer: swinViT.layers4.0.blocks.1.norm2.bias\n",
      "Fine-tuning layer: swinViT.layers4.0.blocks.1.mlp.linear1.weight\n",
      "Fine-tuning layer: swinViT.layers4.0.blocks.1.mlp.linear1.bias\n",
      "Fine-tuning layer: swinViT.layers4.0.blocks.1.mlp.linear2.weight\n",
      "Fine-tuning layer: swinViT.layers4.0.blocks.1.mlp.linear2.bias\n",
      "Fine-tuning layer: swinViT.layers4.0.downsample.reduction.weight\n",
      "Fine-tuning layer: swinViT.layers4.0.downsample.norm.weight\n",
      "Fine-tuning layer: swinViT.layers4.0.downsample.norm.bias\n",
      "Fine-tuning layer: encoder4.layer.conv1.conv.weight\n",
      "Fine-tuning layer: encoder4.layer.conv2.conv.weight\n",
      "Fine-tuning layer: encoder10.layer.conv1.conv.weight\n",
      "Fine-tuning layer: encoder10.layer.conv2.conv.weight\n",
      "Fine-tuning layer: decoder5.transp_conv.conv.weight\n",
      "Fine-tuning layer: decoder5.conv_block.conv1.conv.weight\n",
      "Fine-tuning layer: decoder5.conv_block.conv2.conv.weight\n",
      "Fine-tuning layer: decoder5.conv_block.conv3.conv.weight\n",
      "Fine-tuning layer: decoder4.transp_conv.conv.weight\n",
      "Fine-tuning layer: decoder4.conv_block.conv1.conv.weight\n",
      "Fine-tuning layer: decoder4.conv_block.conv2.conv.weight\n",
      "Fine-tuning layer: decoder4.conv_block.conv3.conv.weight\n",
      "Fine-tuning layer: out.conv.conv.weight\n",
      "Fine-tuning layer: out.conv.conv.bias\n"
     ]
    }
   ],
   "source": [
    "# Freeze specific layers if you don't want them to be updated during fine-tuning\n",
    "for name, param in swin_model.named_parameters():\n",
    "    if \"swinViT.layers1\" in name or \"swinViT.layers2\" in name:\n",
    "        param.requires_grad = False  # Freeze these layers\n",
    "\n",
    "\n",
    "# Freeze specific layers if you don't want them to be updated during fine-tuning\n",
    "for name, param in swin_model.named_parameters():\n",
    "    if \"patch_embed\" in name:\n",
    "        param.requires_grad = False  # Freeze these layers\n",
    "\n",
    "\n",
    "for name, param in swin_model.named_parameters():\n",
    "    if 'encoder' in name and 'encoder4' not in name and 'encoder10' not in name:\n",
    "        param.requires_grad = False  # Freeze these layers\n",
    "\n",
    "# Freeze some parts of the decoder if needed\n",
    "for name, param in swin_model.named_parameters():\n",
    "     if 'decoder' in name and 'decoder4' not in name and 'decoder5' not in name:\n",
    "         param.requires_grad = False\n",
    "\n",
    "# Print which layers will be fine-tuned\n",
    "for name, param in swin_model.named_parameters():\n",
    "    if param.requires_grad:\n",
    "        print(f\"Fine-tuning layer: {name}\")"
   ]
  },
  {
   "cell_type": "code",
   "execution_count": 60,
   "metadata": {},
   "outputs": [
    {
     "data": {
      "text/plain": [
       "'C:\\\\Users\\\\scmmw\\\\OneDrive - University of Leeds\\\\Masters - 23-24\\\\Project\\\\results'"
      ]
     },
     "execution_count": 60,
     "metadata": {},
     "output_type": "execute_result"
    }
   ],
   "source": [
    "# Define path to where I will save results\n",
    "ResultsPath = r'C:\\Users\\scmmw\\OneDrive - University of Leeds\\Masters - 23-24\\Project\\results'\n",
    "os.makedirs(ResultsPath, exist_ok=True)\n",
    "ResultsPath"
   ]
  },
  {
   "cell_type": "code",
   "execution_count": 61,
   "metadata": {},
   "outputs": [
    {
     "data": {
      "text/plain": [
       "'import logging\\nimport torch\\nimport torch.nn as nn\\nimport torch.optim as optim\\nfrom torch.utils.tensorboard import SummaryWriter\\nfrom monai.networks.nets import SwinUNETR  # Import SwinUNETR from MONAI\\nfrom monai.data import DataLoader\\nfrom monai.utils import set_determinism\\n\\n# Initialize paths\\n\\nlog_dir = ResultsPath\\n\\n# Set up basic logging\\nlogging.basicConfig(level=logging.INFO)\\nlogger = logging.getLogger(\"swin_transformer_3d\")\\n\\n# Create a TensorBoard writer\\nwriter = SummaryWriter(log_dir=log_dir)\\n\\n\\n# Training function using SwinUNETR\\ndef train(train_loader, test_loader, max_epochs=10, learning_rate=1e-3, patience=5, model=None):\\n    # Initialize the SwinUNETR model\\n    logger.info(\\'Initializing model\\')\\n\\n    # Define the loss function and optimizer\\n    loss_function = nn.MSELoss()\\n    optimizer = optim.Adam(model.parameters(), lr=learning_rate)\\n    early_stopper = EarlyStopper(patience=patience)\\n\\n    epoch_loss_values = []\\n\\n    for epoch in range(max_epochs):\\n        epoch_start_time = time.time()\\n        model.train()\\n        epoch_loss = 0\\n        step = 0\\n\\n        # Progress bar for the epoch\\n        with tqdm(total=len(train_loader), desc=f\"Epoch {epoch+1}/{max_epochs}\", unit=\"batch\") as pbar:\\n            for batch_data in train_loader:\\n                batch_start_time = time.time()\\n                step += 1\\n\\n                inputs = batch_data[\"im\"].to(device)\\n                inputs = inputs.to(device)\\n                optimizer.zero_grad()\\n                outputs = model(inputs)\\n                outputs = outputs.to(device)\\n\\n                loss = loss_function(outputs, inputs)\\n                loss.backward()\\n                optimizer.step()\\n                epoch_loss += loss.item()\\n\\n                batch_time = time.time() - batch_start_time\\n                pbar.set_postfix({\"Batch Time\": f\"{batch_time:.4f} sec\"})\\n                pbar.update(1)\\n\\n        epoch_loss /= step\\n        epoch_loss_values.append(epoch_loss)\\n\\n        logger.info(f\"Epoch {epoch + 1}/{max_epochs}, Loss: {epoch_loss:.4f}\")\\n\\n        # Validation loop with progress bar\\n        total_val_loss = 0.0\\n        model.eval()\\n        with tqdm(total=len(test_loader), desc=\"Validation\", unit=\"batch\") as pbar:\\n            with torch.no_grad():\\n                for batch_data in test_loader:\\n                    inputs = batch_data[\"im\"]\\n                    inputs = inputs.to(device)\\n                    outputs = model(inputs)\\n                    outputs = outputs.to(device)\\n                    loss_L1 = loss_function(outputs, inputs)\\n                    total_val_loss += loss_L1.item()\\n                    pbar.update(1)\\n\\n        avg_val_loss = total_val_loss / len(test_loader)\\n        logger.info(f\"Validation Loss: {avg_val_loss:.4f}\")\\n\\n        epoch_time = time.time() - epoch_start_time\\n        logger.info(f\"Epoch {epoch + 1} took {epoch_time:.4f} seconds\")\\n\\n        # Early stopping check\\n        if early_stopper.early_stop(avg_val_loss):\\n            # Save model parameters if early stopping criteria are met for the first time\\n            if early_stopper.counter == 1:\\n                logger.info(f\"\\nEarly stopping criteria reached!\\nSaving model parameters to {ResultsPath}/optimal_model_weights_epoch_{epoch + 1}.pth\\n\")\\n                opt_model_filepath = f\"{ResultsPath}/optimal_model_weights_epoch_{epoch + 1}.pth\"\\n                torch.save(model.state_dict(), opt_model_filepath)\\n\\n        # Logging to TensorBoard\\n        writer.add_scalar(\\'Loss/train\\', epoch_loss, epoch)\\n        writer.add_scalar(\\'Loss/validation\\', avg_val_loss, epoch)\\n\\n    return model, epoch_loss_values'"
      ]
     },
     "execution_count": 61,
     "metadata": {},
     "output_type": "execute_result"
    }
   ],
   "source": [
    "'''import logging\n",
    "import torch\n",
    "import torch.nn as nn\n",
    "import torch.optim as optim\n",
    "from torch.utils.tensorboard import SummaryWriter\n",
    "from monai.networks.nets import SwinUNETR  # Import SwinUNETR from MONAI\n",
    "from monai.data import DataLoader\n",
    "from monai.utils import set_determinism\n",
    "\n",
    "# Initialize paths\n",
    "\n",
    "log_dir = ResultsPath\n",
    "\n",
    "# Set up basic logging\n",
    "logging.basicConfig(level=logging.INFO)\n",
    "logger = logging.getLogger(\"swin_transformer_3d\")\n",
    "\n",
    "# Create a TensorBoard writer\n",
    "writer = SummaryWriter(log_dir=log_dir)\n",
    "\n",
    "\n",
    "# Training function using SwinUNETR\n",
    "def train(train_loader, test_loader, max_epochs=10, learning_rate=1e-3, patience=5, model=None):\n",
    "    # Initialize the SwinUNETR model\n",
    "    logger.info('Initializing model')\n",
    "\n",
    "    # Define the loss function and optimizer\n",
    "    loss_function = nn.MSELoss()\n",
    "    optimizer = optim.Adam(model.parameters(), lr=learning_rate)\n",
    "    early_stopper = EarlyStopper(patience=patience)\n",
    "\n",
    "    epoch_loss_values = []\n",
    "\n",
    "    for epoch in range(max_epochs):\n",
    "        epoch_start_time = time.time()\n",
    "        model.train()\n",
    "        epoch_loss = 0\n",
    "        step = 0\n",
    "\n",
    "        # Progress bar for the epoch\n",
    "        with tqdm(total=len(train_loader), desc=f\"Epoch {epoch+1}/{max_epochs}\", unit=\"batch\") as pbar:\n",
    "            for batch_data in train_loader:\n",
    "                batch_start_time = time.time()\n",
    "                step += 1\n",
    "\n",
    "                inputs = batch_data[\"im\"].to(device)\n",
    "                inputs = inputs.to(device)\n",
    "                optimizer.zero_grad()\n",
    "                outputs = model(inputs)\n",
    "                outputs = outputs.to(device)\n",
    "\n",
    "                loss = loss_function(outputs, inputs)\n",
    "                loss.backward()\n",
    "                optimizer.step()\n",
    "                epoch_loss += loss.item()\n",
    "\n",
    "                batch_time = time.time() - batch_start_time\n",
    "                pbar.set_postfix({\"Batch Time\": f\"{batch_time:.4f} sec\"})\n",
    "                pbar.update(1)\n",
    "\n",
    "        epoch_loss /= step\n",
    "        epoch_loss_values.append(epoch_loss)\n",
    "\n",
    "        logger.info(f\"Epoch {epoch + 1}/{max_epochs}, Loss: {epoch_loss:.4f}\")\n",
    "\n",
    "        # Validation loop with progress bar\n",
    "        total_val_loss = 0.0\n",
    "        model.eval()\n",
    "        with tqdm(total=len(test_loader), desc=\"Validation\", unit=\"batch\") as pbar:\n",
    "            with torch.no_grad():\n",
    "                for batch_data in test_loader:\n",
    "                    inputs = batch_data[\"im\"]\n",
    "                    inputs = inputs.to(device)\n",
    "                    outputs = model(inputs)\n",
    "                    outputs = outputs.to(device)\n",
    "                    loss_L1 = loss_function(outputs, inputs)\n",
    "                    total_val_loss += loss_L1.item()\n",
    "                    pbar.update(1)\n",
    "\n",
    "        avg_val_loss = total_val_loss / len(test_loader)\n",
    "        logger.info(f\"Validation Loss: {avg_val_loss:.4f}\")\n",
    "\n",
    "        epoch_time = time.time() - epoch_start_time\n",
    "        logger.info(f\"Epoch {epoch + 1} took {epoch_time:.4f} seconds\")\n",
    "\n",
    "        # Early stopping check\n",
    "        if early_stopper.early_stop(avg_val_loss):\n",
    "            # Save model parameters if early stopping criteria are met for the first time\n",
    "            if early_stopper.counter == 1:\n",
    "                logger.info(f\"\\nEarly stopping criteria reached!\\nSaving model parameters to {ResultsPath}/optimal_model_weights_epoch_{epoch + 1}.pth\\n\")\n",
    "                opt_model_filepath = f\"{ResultsPath}/optimal_model_weights_epoch_{epoch + 1}.pth\"\n",
    "                torch.save(model.state_dict(), opt_model_filepath)\n",
    "\n",
    "        # Logging to TensorBoard\n",
    "        writer.add_scalar('Loss/train', epoch_loss, epoch)\n",
    "        writer.add_scalar('Loss/validation', avg_val_loss, epoch)\n",
    "\n",
    "    return model, epoch_loss_values'''"
   ]
  },
  {
   "cell_type": "code",
   "execution_count": 62,
   "metadata": {},
   "outputs": [],
   "source": [
    "import logging\n",
    "import torch\n",
    "import torch.nn as nn\n",
    "import torch.optim as optim\n",
    "from torch.utils.tensorboard import SummaryWriter\n",
    "from monai.networks.nets import SwinUNETR  # Import SwinUNETR from MONAI\n",
    "from monai.data import DataLoader\n",
    "from monai.utils import set_determinism\n",
    "from torch.amp import autocast, GradScaler  # Use the updated GradScaler from torch.amp\n",
    "\n",
    "# Initialize paths\n",
    "log_dir = ResultsPath\n",
    "\n",
    "# Set up basic logging\n",
    "logging.basicConfig(level=logging.INFO)\n",
    "logger = logging.getLogger(\"swin_transformer_3d\")\n",
    "\n",
    "# Create a TensorBoard writer\n",
    "writer = SummaryWriter(log_dir=log_dir)\n",
    "\n",
    "# Enable cuDNN auto-tuner to find the best algorithm\n",
    "torch.backends.cudnn.benchmark = True\n",
    "\n",
    "# Training function using SwinUNETR\n",
    "def train(train_loader, test_loader, max_epochs=10, learning_rate=1e-3, patience=5, model=None):\n",
    "    # Initialize the SwinUNETR model\n",
    "    logger.info('Initializing model')\n",
    "    \n",
    "    # Move model to device\n",
    "    model.to(device)\n",
    "\n",
    "    # Define the loss function and optimizer\n",
    "    loss_function = nn.MSELoss()\n",
    "    optimizer = optim.Adam(model.parameters(), lr=learning_rate)\n",
    "    early_stopper = EarlyStopper(patience=patience, min_delta=0.003)\n",
    "\n",
    "    # Initialize GradScaler for mixed precision training\n",
    "    scaler = GradScaler()\n",
    "\n",
    "    epoch_loss_values = []\n",
    "\n",
    "    for epoch in range(max_epochs):\n",
    "        epoch_start_time = time.time()\n",
    "        model.train()\n",
    "        epoch_loss = 0\n",
    "        step = 0\n",
    "\n",
    "        # Progress bar for the epoch\n",
    "        with tqdm(total=len(train_loader), desc=f\"Epoch {epoch+1}/{max_epochs}\", unit=\"batch\") as pbar:\n",
    "            for batch_data in train_loader:\n",
    "                batch_start_time = time.time()\n",
    "                step += 1\n",
    "\n",
    "                inputs = batch_data[\"im\"].to(torch.float32).to(device)\n",
    "                optimizer.zero_grad()\n",
    "\n",
    "                # Use autocast for mixed precision during the forward pass\n",
    "                with autocast(device_type='cuda', dtype=torch.float16):\n",
    "                    outputs = model(inputs)\n",
    "                    loss = loss_function(outputs, inputs)\n",
    "                \n",
    "                # Scale the loss and perform backward pass\n",
    "                scaler.scale(loss).backward()\n",
    "                scaler.step(optimizer)\n",
    "                scaler.update()\n",
    "\n",
    "                epoch_loss += loss.item()\n",
    "\n",
    "                batch_time = time.time() - batch_start_time\n",
    "                pbar.set_postfix({\"Batch Time\": f\"{batch_time:.4f} sec\"})\n",
    "                pbar.update(1)\n",
    "\n",
    "        epoch_loss /= step\n",
    "        epoch_loss_values.append(epoch_loss)\n",
    "\n",
    "        logger.info(f\"Epoch {epoch + 1}/{max_epochs}, Loss: {epoch_loss:.4f}\")\n",
    "\n",
    "        # Validation loop with progress bar\n",
    "        total_val_loss = 0.0\n",
    "        model.eval()\n",
    "        with tqdm(total=len(test_loader), desc=\"Validation\", unit=\"batch\") as pbar:\n",
    "            with torch.no_grad():\n",
    "                for batch_data in test_loader:\n",
    "                    inputs = batch_data[\"im\"].to(torch.float32).to(device)\n",
    "\n",
    "                    # Use autocast for mixed precision during the forward pass in validation\n",
    "                    with autocast(device_type='cuda', dtype=torch.float16):\n",
    "                        outputs = model(inputs)\n",
    "                        loss_L1 = loss_function(outputs, inputs)\n",
    "                        total_val_loss += loss_L1.item()\n",
    "                    \n",
    "                    pbar.update(1)\n",
    "\n",
    "        avg_val_loss = total_val_loss / len(test_loader)\n",
    "        logger.info(f\"Validation Loss: {avg_val_loss:.4f}\")\n",
    "\n",
    "        epoch_time = time.time() - epoch_start_time\n",
    "        logger.info(f\"Epoch {epoch + 1} took {epoch_time:.4f} seconds\")\n",
    "\n",
    "        # Early stopping check\n",
    "        if early_stopper.early_stop(avg_val_loss):\n",
    "            # Save model parameters if early stopping criteria are met for the first time\n",
    "            if early_stopper.counter == 1:\n",
    "                logger.info(f\"\\nEarly stopping criteria reached!\\nSaving model parameters to {ResultsPath}/optimal_model_weights_epoch_{epoch + 1}.pth\\n\")\n",
    "                opt_model_filepath = f\"{ResultsPath}/optimal_model_weights_epoch_{epoch + 1}.pth\"\n",
    "                torch.save(model.state_dict(), opt_model_filepath)\n",
    "\n",
    "        # Logging to TensorBoard\n",
    "        writer.add_scalar('Loss/train', epoch_loss, epoch)\n",
    "        writer.add_scalar('Loss/validation', avg_val_loss, epoch)\n",
    "\n",
    "    return model, epoch_loss_values\n"
   ]
  },
  {
   "cell_type": "code",
   "execution_count": 63,
   "metadata": {},
   "outputs": [],
   "source": [
    "import matplotlib.pyplot as plt\n",
    "\n",
    "def plot_loss_curve(epoch_losses, early_stop_epoch=None, save_path=None):\n",
    "    \"\"\"\n",
    "    Plot the training and validation loss curves and mark the early stopping point.\n",
    "\n",
    "    Args:\n",
    "        epoch_losses (list of tuples): A list where each element is a tuple containing (train_loss, val_loss) for each epoch.\n",
    "        early_stop_epoch (int, optional): The epoch number where early stopping occurred. Defaults to None.\n",
    "        save_path (str, optional): Path to save the plot image. Defaults to None.\n",
    "    \"\"\"\n",
    "    epochs = range(1, len(epoch_losses) + 1)\n",
    "    train_losses = [loss[0] for loss in epoch_losses]\n",
    "    val_losses = [loss[1] for loss in epoch_losses]\n",
    "\n",
    "    plt.figure(figsize=(10, 6))\n",
    "    plt.plot(epochs, train_losses, label='Training Loss', marker='o')\n",
    "    plt.plot(epochs, val_losses, label='Validation Loss', marker='o')\n",
    "\n",
    "    if early_stop_epoch is not None:\n",
    "        plt.axvline(x=early_stop_epoch, color='r', linestyle='--', label=f'Early Stopping at Epoch {early_stop_epoch}')\n",
    "\n",
    "    plt.xlabel('Epoch')\n",
    "    plt.ylabel('Loss')\n",
    "    plt.title('Training and Validation Loss per Epoch')\n",
    "    plt.legend()\n",
    "    plt.grid(True)\n",
    "\n",
    "    if save_path:\n",
    "        plt.savefig(save_path)\n",
    "\n",
    "    plt.show()"
   ]
  },
  {
   "cell_type": "code",
   "execution_count": 64,
   "metadata": {},
   "outputs": [
    {
     "data": {
      "text/plain": [
       "'import logging\\nimport torch\\nimport torch.nn as nn\\nimport torch.optim as optim\\nfrom torch.utils.tensorboard import SummaryWriter\\nfrom monai.networks.nets import SwinUNETR  # Import SwinUNETR from MONAI\\nfrom monai.data import DataLoader\\nfrom monai.utils import set_determinism\\n\\n# Initialize paths\\n\\nlog_dir = ResultsPath\\n\\n# Set up basic logging\\nlogging.basicConfig(level=logging.INFO)\\nlogger = logging.getLogger(\"swin_transformer_3d\")\\n\\n# Create a TensorBoard writer\\nwriter = SummaryWriter(log_dir=log_dir)\\n\\n# Training function using SwinUNETR\\ndef train(train_loader, test_loader, max_epochs=10, learning_rate=1e-3, patience=5, model=None):\\n    # Initialize the SwinUNETR model\\n    print(device)\\n    logger.info(\\'Initializing model\\')\\n\\n    # Ensure the model is in float32 precision\\n    model = model.to(device)\\n    model = model.to(torch.float32)\\n\\n    # Define the loss function and optimizer\\n    loss_function = nn.MSELoss()\\n    optimizer = optim.Adam(model.parameters(), lr=learning_rate)\\n    early_stopper = EarlyStopper(patience=patience)\\n\\n    epoch_loss_values = []\\n\\n    for epoch in range(max_epochs):\\n        epoch_start_time = time.time()\\n        model.train()\\n        epoch_loss = 0\\n        step = 0\\n\\n        # Progress bar for the epoch\\n        with tqdm(total=len(train_loader), desc=f\"Epoch {epoch+1}/{max_epochs}\", unit=\"batch\") as pbar:\\n            for batch_data in train_loader:\\n                batch_start_time = time.time()\\n                step += 1\\n\\n                # Ensure the inputs are in float32 precision\\n                inputs = batch_data[\"im\"]\\n                inputs = inputs.to(torch.float32)\\n                inputs = inputs.to(device)\\n                optimizer.zero_grad()\\n\\n                # Forward pass\\n                outputs = model(inputs)\\n                outputs = outputs.to(torch.float32)\\n                outputs = outputs.to(device)\\n\\n                # Compute loss\\n                loss = loss_function(outputs, inputs.to(device))\\n                \\n                # Backward pass and optimize\\n                loss.backward()\\n                optimizer.step()\\n\\n                epoch_loss += loss.item()\\n\\n                batch_time = time.time() - batch_start_time\\n                pbar.set_postfix({\"Batch Time\": f\"{batch_time:.4f} sec\"})\\n                pbar.update(1)\\n\\n        epoch_loss /= step\\n        epoch_loss_values.append(epoch_loss)\\n\\n        logger.info(f\"Epoch {epoch + 1}/{max_epochs}, Loss: {epoch_loss:.4f}\")\\n\\n        # Validation loop with progress bar\\n        total_val_loss = 0.0\\n        model.eval()\\n        with tqdm(total=len(test_loader), desc=\"Validation\", unit=\"batch\") as pbar:\\n            with torch.no_grad():\\n                for batch_data in test_loader:\\n                    # Ensure the inputs are in float32 precision\\n                    inputs = batch_data[\"im\"]\\n                    inputs = inputs.to(torch.float32)\\n                    inputs = inputs.to(device)\\n\\n                    # Forward pass\\n                    outputs = model(inputs)\\n                    outputs = outputs.to(torch.float32)\\n                    outputs = output.to(device)\\n\\n                    # Compute validation loss\\n                    loss_L1 = loss_function(outputs, inputs.to(device))\\n                    total_val_loss += loss_L1.item()\\n                    \\n                    pbar.update(1)\\n\\n        avg_val_loss = total_val_loss / len(test_loader)\\n        logger.info(f\"Validation Loss: {avg_val_loss:.4f}\")\\n\\n        epoch_time = time.time() - epoch_start_time\\n        logger.info(f\"Epoch {epoch + 1} took {epoch_time:.4f} seconds\")\\n\\n        # Early stopping check\\n        if early_stopper.early_stop(avg_val_loss):\\n            # Save model parameters if early stopping criteria are met for the first time\\n            if early_stopper.counter == 1:\\n                logger.info(f\"\\nEarly stopping criteria reached!\\nSaving model parameters to {ResultsPath}/optimal_model_weights_epoch_{epoch + 1}.pth\\n\")\\n                opt_model_filepath = f\"{ResultsPath}/optimal_model_weights_epoch_{epoch + 1}.pth\"\\n                torch.save(model.state_dict(), opt_model_filepath)\\n\\n        # Logging to TensorBoard\\n        writer.add_scalar(\\'Loss/train\\', epoch_loss, epoch)\\n        writer.add_scalar(\\'Loss/validation\\', avg_val_loss, epoch)\\n\\n    return model, epoch_loss_values'"
      ]
     },
     "execution_count": 64,
     "metadata": {},
     "output_type": "execute_result"
    }
   ],
   "source": [
    "'''import logging\n",
    "import torch\n",
    "import torch.nn as nn\n",
    "import torch.optim as optim\n",
    "from torch.utils.tensorboard import SummaryWriter\n",
    "from monai.networks.nets import SwinUNETR  # Import SwinUNETR from MONAI\n",
    "from monai.data import DataLoader\n",
    "from monai.utils import set_determinism\n",
    "\n",
    "# Initialize paths\n",
    "\n",
    "log_dir = ResultsPath\n",
    "\n",
    "# Set up basic logging\n",
    "logging.basicConfig(level=logging.INFO)\n",
    "logger = logging.getLogger(\"swin_transformer_3d\")\n",
    "\n",
    "# Create a TensorBoard writer\n",
    "writer = SummaryWriter(log_dir=log_dir)\n",
    "\n",
    "# Training function using SwinUNETR\n",
    "def train(train_loader, test_loader, max_epochs=10, learning_rate=1e-3, patience=5, model=None):\n",
    "    # Initialize the SwinUNETR model\n",
    "    print(device)\n",
    "    logger.info('Initializing model')\n",
    "\n",
    "    # Ensure the model is in float32 precision\n",
    "    model = model.to(device)\n",
    "    model = model.to(torch.float32)\n",
    "\n",
    "    # Define the loss function and optimizer\n",
    "    loss_function = nn.MSELoss()\n",
    "    optimizer = optim.Adam(model.parameters(), lr=learning_rate)\n",
    "    early_stopper = EarlyStopper(patience=patience)\n",
    "\n",
    "    epoch_loss_values = []\n",
    "\n",
    "    for epoch in range(max_epochs):\n",
    "        epoch_start_time = time.time()\n",
    "        model.train()\n",
    "        epoch_loss = 0\n",
    "        step = 0\n",
    "\n",
    "        # Progress bar for the epoch\n",
    "        with tqdm(total=len(train_loader), desc=f\"Epoch {epoch+1}/{max_epochs}\", unit=\"batch\") as pbar:\n",
    "            for batch_data in train_loader:\n",
    "                batch_start_time = time.time()\n",
    "                step += 1\n",
    "\n",
    "                # Ensure the inputs are in float32 precision\n",
    "                inputs = batch_data[\"im\"]\n",
    "                inputs = inputs.to(torch.float32)\n",
    "                inputs = inputs.to(device)\n",
    "                optimizer.zero_grad()\n",
    "\n",
    "                # Forward pass\n",
    "                outputs = model(inputs)\n",
    "                outputs = outputs.to(torch.float32)\n",
    "                outputs = outputs.to(device)\n",
    "\n",
    "                # Compute loss\n",
    "                loss = loss_function(outputs, inputs.to(device))\n",
    "                \n",
    "                # Backward pass and optimize\n",
    "                loss.backward()\n",
    "                optimizer.step()\n",
    "\n",
    "                epoch_loss += loss.item()\n",
    "\n",
    "                batch_time = time.time() - batch_start_time\n",
    "                pbar.set_postfix({\"Batch Time\": f\"{batch_time:.4f} sec\"})\n",
    "                pbar.update(1)\n",
    "\n",
    "        epoch_loss /= step\n",
    "        epoch_loss_values.append(epoch_loss)\n",
    "\n",
    "        logger.info(f\"Epoch {epoch + 1}/{max_epochs}, Loss: {epoch_loss:.4f}\")\n",
    "\n",
    "        # Validation loop with progress bar\n",
    "        total_val_loss = 0.0\n",
    "        model.eval()\n",
    "        with tqdm(total=len(test_loader), desc=\"Validation\", unit=\"batch\") as pbar:\n",
    "            with torch.no_grad():\n",
    "                for batch_data in test_loader:\n",
    "                    # Ensure the inputs are in float32 precision\n",
    "                    inputs = batch_data[\"im\"]\n",
    "                    inputs = inputs.to(torch.float32)\n",
    "                    inputs = inputs.to(device)\n",
    "\n",
    "                    # Forward pass\n",
    "                    outputs = model(inputs)\n",
    "                    outputs = outputs.to(torch.float32)\n",
    "                    outputs = output.to(device)\n",
    "\n",
    "                    # Compute validation loss\n",
    "                    loss_L1 = loss_function(outputs, inputs.to(device))\n",
    "                    total_val_loss += loss_L1.item()\n",
    "                    \n",
    "                    pbar.update(1)\n",
    "\n",
    "        avg_val_loss = total_val_loss / len(test_loader)\n",
    "        logger.info(f\"Validation Loss: {avg_val_loss:.4f}\")\n",
    "\n",
    "        epoch_time = time.time() - epoch_start_time\n",
    "        logger.info(f\"Epoch {epoch + 1} took {epoch_time:.4f} seconds\")\n",
    "\n",
    "        # Early stopping check\n",
    "        if early_stopper.early_stop(avg_val_loss):\n",
    "            # Save model parameters if early stopping criteria are met for the first time\n",
    "            if early_stopper.counter == 1:\n",
    "                logger.info(f\"\\nEarly stopping criteria reached!\\nSaving model parameters to {ResultsPath}/optimal_model_weights_epoch_{epoch + 1}.pth\\n\")\n",
    "                opt_model_filepath = f\"{ResultsPath}/optimal_model_weights_epoch_{epoch + 1}.pth\"\n",
    "                torch.save(model.state_dict(), opt_model_filepath)\n",
    "\n",
    "        # Logging to TensorBoard\n",
    "        writer.add_scalar('Loss/train', epoch_loss, epoch)\n",
    "        writer.add_scalar('Loss/validation', avg_val_loss, epoch)\n",
    "\n",
    "    return model, epoch_loss_values'''"
   ]
  },
  {
   "cell_type": "code",
   "execution_count": 65,
   "metadata": {},
   "outputs": [
    {
     "name": "stdout",
     "output_type": "stream",
     "text": [
      "INFO:swin_transformer_3d:Initializing model\n"
     ]
    },
    {
     "name": "stderr",
     "output_type": "stream",
     "text": [
      "Epoch 1/80:   0%|          | 0/80 [00:00<?, ?batch/s]`torch.cpu.amp.autocast(args...)` is deprecated. Please use `torch.amp.autocast('cpu', args...)` instead.\n",
      "Epoch 1/80: 100%|██████████| 80/80 [01:52<00:00,  1.41s/batch, Batch Time=0.1275 sec]\n"
     ]
    },
    {
     "name": "stdout",
     "output_type": "stream",
     "text": [
      "INFO:swin_transformer_3d:Epoch 1/80, Loss: 0.1203\n"
     ]
    },
    {
     "name": "stderr",
     "output_type": "stream",
     "text": [
      "Validation: 100%|██████████| 20/20 [00:24<00:00,  1.24s/batch]\n"
     ]
    },
    {
     "name": "stdout",
     "output_type": "stream",
     "text": [
      "INFO:swin_transformer_3d:Validation Loss: 0.0670\n",
      "INFO:swin_transformer_3d:Epoch 1 took 137.6936 seconds\n"
     ]
    },
    {
     "name": "stderr",
     "output_type": "stream",
     "text": [
      "Epoch 2/80: 100%|██████████| 80/80 [01:47<00:00,  1.35s/batch, Batch Time=0.1405 sec]\n"
     ]
    },
    {
     "name": "stdout",
     "output_type": "stream",
     "text": [
      "INFO:swin_transformer_3d:Epoch 2/80, Loss: 0.0528\n"
     ]
    },
    {
     "name": "stderr",
     "output_type": "stream",
     "text": [
      "Validation: 100%|██████████| 20/20 [00:26<00:00,  1.32s/batch]\n"
     ]
    },
    {
     "name": "stdout",
     "output_type": "stream",
     "text": [
      "INFO:swin_transformer_3d:Validation Loss: 0.0480\n",
      "INFO:swin_transformer_3d:Epoch 2 took 134.3170 seconds\n"
     ]
    },
    {
     "name": "stderr",
     "output_type": "stream",
     "text": [
      "Epoch 3/80: 100%|██████████| 80/80 [01:50<00:00,  1.38s/batch, Batch Time=0.1290 sec]\n"
     ]
    },
    {
     "name": "stdout",
     "output_type": "stream",
     "text": [
      "INFO:swin_transformer_3d:Epoch 3/80, Loss: 0.0524\n"
     ]
    },
    {
     "name": "stderr",
     "output_type": "stream",
     "text": [
      "Validation: 100%|██████████| 20/20 [00:23<00:00,  1.15s/batch]\n"
     ]
    },
    {
     "name": "stdout",
     "output_type": "stream",
     "text": [
      "INFO:swin_transformer_3d:Validation Loss: 0.0397\n",
      "INFO:swin_transformer_3d:Epoch 3 took 133.3309 seconds\n"
     ]
    },
    {
     "name": "stderr",
     "output_type": "stream",
     "text": [
      "Epoch 4/80: 100%|██████████| 80/80 [01:41<00:00,  1.27s/batch, Batch Time=0.0967 sec]\n"
     ]
    },
    {
     "name": "stdout",
     "output_type": "stream",
     "text": [
      "INFO:swin_transformer_3d:Epoch 4/80, Loss: 0.0448\n"
     ]
    },
    {
     "name": "stderr",
     "output_type": "stream",
     "text": [
      "Validation: 100%|██████████| 20/20 [00:24<00:00,  1.21s/batch]\n"
     ]
    },
    {
     "name": "stdout",
     "output_type": "stream",
     "text": [
      "INFO:swin_transformer_3d:Validation Loss: 0.0445\n",
      "INFO:swin_transformer_3d:Epoch 4 took 125.8413 seconds\n"
     ]
    },
    {
     "name": "stderr",
     "output_type": "stream",
     "text": [
      "Epoch 5/80: 100%|██████████| 80/80 [01:40<00:00,  1.25s/batch, Batch Time=0.1214 sec]\n"
     ]
    },
    {
     "name": "stdout",
     "output_type": "stream",
     "text": [
      "INFO:swin_transformer_3d:Epoch 5/80, Loss: 0.0412\n"
     ]
    },
    {
     "name": "stderr",
     "output_type": "stream",
     "text": [
      "Validation: 100%|██████████| 20/20 [00:22<00:00,  1.12s/batch]\n"
     ]
    },
    {
     "name": "stdout",
     "output_type": "stream",
     "text": [
      "INFO:swin_transformer_3d:Validation Loss: 0.0537\n",
      "INFO:swin_transformer_3d:Epoch 5 took 122.3984 seconds\n"
     ]
    },
    {
     "name": "stderr",
     "output_type": "stream",
     "text": [
      "Epoch 6/80: 100%|██████████| 80/80 [01:42<00:00,  1.28s/batch, Batch Time=0.1348 sec]\n"
     ]
    },
    {
     "name": "stdout",
     "output_type": "stream",
     "text": [
      "INFO:swin_transformer_3d:Epoch 6/80, Loss: 0.0435\n"
     ]
    },
    {
     "name": "stderr",
     "output_type": "stream",
     "text": [
      "Validation: 100%|██████████| 20/20 [00:22<00:00,  1.13s/batch]\n"
     ]
    },
    {
     "name": "stdout",
     "output_type": "stream",
     "text": [
      "INFO:swin_transformer_3d:Validation Loss: 0.0375\n",
      "INFO:swin_transformer_3d:Epoch 6 took 125.2883 seconds\n"
     ]
    },
    {
     "name": "stderr",
     "output_type": "stream",
     "text": [
      "Epoch 7/80: 100%|██████████| 80/80 [01:41<00:00,  1.27s/batch, Batch Time=0.1047 sec]\n"
     ]
    },
    {
     "name": "stdout",
     "output_type": "stream",
     "text": [
      "INFO:swin_transformer_3d:Epoch 7/80, Loss: 0.0467\n"
     ]
    },
    {
     "name": "stderr",
     "output_type": "stream",
     "text": [
      "Validation: 100%|██████████| 20/20 [00:25<00:00,  1.25s/batch]\n"
     ]
    },
    {
     "name": "stdout",
     "output_type": "stream",
     "text": [
      "INFO:swin_transformer_3d:Validation Loss: 0.0513\n",
      "INFO:swin_transformer_3d:Epoch 7 took 126.9150 seconds\n"
     ]
    },
    {
     "name": "stderr",
     "output_type": "stream",
     "text": [
      "Epoch 8/80: 100%|██████████| 80/80 [01:41<00:00,  1.27s/batch, Batch Time=0.1265 sec]\n"
     ]
    },
    {
     "name": "stdout",
     "output_type": "stream",
     "text": [
      "INFO:swin_transformer_3d:Epoch 8/80, Loss: 0.0436\n"
     ]
    },
    {
     "name": "stderr",
     "output_type": "stream",
     "text": [
      "Validation: 100%|██████████| 20/20 [00:24<00:00,  1.20s/batch]\n"
     ]
    },
    {
     "name": "stdout",
     "output_type": "stream",
     "text": [
      "INFO:swin_transformer_3d:Validation Loss: 0.0581\n",
      "INFO:swin_transformer_3d:Epoch 8 took 125.3338 seconds\n"
     ]
    },
    {
     "name": "stderr",
     "output_type": "stream",
     "text": [
      "Epoch 9/80: 100%|██████████| 80/80 [01:44<00:00,  1.31s/batch, Batch Time=0.0775 sec]\n"
     ]
    },
    {
     "name": "stdout",
     "output_type": "stream",
     "text": [
      "INFO:swin_transformer_3d:Epoch 9/80, Loss: 0.0381\n"
     ]
    },
    {
     "name": "stderr",
     "output_type": "stream",
     "text": [
      "Validation: 100%|██████████| 20/20 [00:24<00:00,  1.21s/batch]\n"
     ]
    },
    {
     "name": "stdout",
     "output_type": "stream",
     "text": [
      "INFO:swin_transformer_3d:Validation Loss: 0.0406\n",
      "INFO:swin_transformer_3d:Epoch 9 took 128.8292 seconds\n"
     ]
    },
    {
     "name": "stderr",
     "output_type": "stream",
     "text": [
      "Epoch 10/80: 100%|██████████| 80/80 [01:43<00:00,  1.30s/batch, Batch Time=0.0929 sec]\n"
     ]
    },
    {
     "name": "stdout",
     "output_type": "stream",
     "text": [
      "INFO:swin_transformer_3d:Epoch 10/80, Loss: 0.0378\n"
     ]
    },
    {
     "name": "stderr",
     "output_type": "stream",
     "text": [
      "Validation: 100%|██████████| 20/20 [00:24<00:00,  1.22s/batch]\n"
     ]
    },
    {
     "name": "stdout",
     "output_type": "stream",
     "text": [
      "INFO:swin_transformer_3d:Validation Loss: 0.0362\n",
      "INFO:swin_transformer_3d:Epoch 10 took 128.3626 seconds\n"
     ]
    },
    {
     "name": "stderr",
     "output_type": "stream",
     "text": [
      "Epoch 11/80: 100%|██████████| 80/80 [01:42<00:00,  1.28s/batch, Batch Time=0.1070 sec]\n"
     ]
    },
    {
     "name": "stdout",
     "output_type": "stream",
     "text": [
      "INFO:swin_transformer_3d:Epoch 11/80, Loss: 0.0367\n"
     ]
    },
    {
     "name": "stderr",
     "output_type": "stream",
     "text": [
      "Validation: 100%|██████████| 20/20 [00:23<00:00,  1.19s/batch]\n"
     ]
    },
    {
     "name": "stdout",
     "output_type": "stream",
     "text": [
      "INFO:swin_transformer_3d:Validation Loss: 0.0388\n",
      "INFO:swin_transformer_3d:Epoch 11 took 126.2073 seconds\n"
     ]
    },
    {
     "name": "stderr",
     "output_type": "stream",
     "text": [
      "Epoch 12/80: 100%|██████████| 80/80 [01:40<00:00,  1.26s/batch, Batch Time=0.1049 sec]\n"
     ]
    },
    {
     "name": "stdout",
     "output_type": "stream",
     "text": [
      "INFO:swin_transformer_3d:Epoch 12/80, Loss: 0.0330\n"
     ]
    },
    {
     "name": "stderr",
     "output_type": "stream",
     "text": [
      "Validation: 100%|██████████| 20/20 [00:22<00:00,  1.13s/batch]\n"
     ]
    },
    {
     "name": "stdout",
     "output_type": "stream",
     "text": [
      "INFO:swin_transformer_3d:Validation Loss: 0.0279\n",
      "INFO:swin_transformer_3d:Epoch 12 took 123.4772 seconds\n"
     ]
    },
    {
     "name": "stderr",
     "output_type": "stream",
     "text": [
      "Epoch 13/80: 100%|██████████| 80/80 [01:47<00:00,  1.35s/batch, Batch Time=0.0991 sec]\n"
     ]
    },
    {
     "name": "stdout",
     "output_type": "stream",
     "text": [
      "INFO:swin_transformer_3d:Epoch 13/80, Loss: 0.0345\n"
     ]
    },
    {
     "name": "stderr",
     "output_type": "stream",
     "text": [
      "Validation: 100%|██████████| 20/20 [00:24<00:00,  1.21s/batch]\n"
     ]
    },
    {
     "name": "stdout",
     "output_type": "stream",
     "text": [
      "INFO:swin_transformer_3d:Validation Loss: 0.0290\n",
      "INFO:swin_transformer_3d:Epoch 13 took 131.8976 seconds\n"
     ]
    },
    {
     "name": "stderr",
     "output_type": "stream",
     "text": [
      "Epoch 14/80: 100%|██████████| 80/80 [01:51<00:00,  1.39s/batch, Batch Time=0.1521 sec]\n"
     ]
    },
    {
     "name": "stdout",
     "output_type": "stream",
     "text": [
      "INFO:swin_transformer_3d:Epoch 14/80, Loss: 0.0358\n"
     ]
    },
    {
     "name": "stderr",
     "output_type": "stream",
     "text": [
      "Validation: 100%|██████████| 20/20 [00:23<00:00,  1.18s/batch]\n"
     ]
    },
    {
     "name": "stdout",
     "output_type": "stream",
     "text": [
      "INFO:swin_transformer_3d:Validation Loss: 0.0282\n",
      "INFO:swin_transformer_3d:Epoch 14 took 135.2003 seconds\n"
     ]
    },
    {
     "name": "stderr",
     "output_type": "stream",
     "text": [
      "Epoch 15/80: 100%|██████████| 80/80 [01:42<00:00,  1.29s/batch, Batch Time=0.0992 sec]\n"
     ]
    },
    {
     "name": "stdout",
     "output_type": "stream",
     "text": [
      "INFO:swin_transformer_3d:Epoch 15/80, Loss: 0.0349\n"
     ]
    },
    {
     "name": "stderr",
     "output_type": "stream",
     "text": [
      "Validation: 100%|██████████| 20/20 [00:22<00:00,  1.13s/batch]\n"
     ]
    },
    {
     "name": "stdout",
     "output_type": "stream",
     "text": [
      "INFO:swin_transformer_3d:Validation Loss: 0.0266\n",
      "INFO:swin_transformer_3d:Epoch 15 took 125.5438 seconds\n"
     ]
    },
    {
     "name": "stderr",
     "output_type": "stream",
     "text": [
      "Epoch 16/80: 100%|██████████| 80/80 [01:47<00:00,  1.34s/batch, Batch Time=0.1230 sec]\n"
     ]
    },
    {
     "name": "stdout",
     "output_type": "stream",
     "text": [
      "INFO:swin_transformer_3d:Epoch 16/80, Loss: 0.0288\n"
     ]
    },
    {
     "name": "stderr",
     "output_type": "stream",
     "text": [
      "Validation: 100%|██████████| 20/20 [00:22<00:00,  1.11s/batch]\n"
     ]
    },
    {
     "name": "stdout",
     "output_type": "stream",
     "text": [
      "INFO:swin_transformer_3d:Validation Loss: 0.0338\n",
      "INFO:swin_transformer_3d:Epoch 16 took 129.2341 seconds\n"
     ]
    },
    {
     "name": "stderr",
     "output_type": "stream",
     "text": [
      "Epoch 17/80: 100%|██████████| 80/80 [01:50<00:00,  1.38s/batch, Batch Time=0.1309 sec]\n"
     ]
    },
    {
     "name": "stdout",
     "output_type": "stream",
     "text": [
      "INFO:swin_transformer_3d:Epoch 17/80, Loss: 0.0284\n"
     ]
    },
    {
     "name": "stderr",
     "output_type": "stream",
     "text": [
      "Validation: 100%|██████████| 20/20 [00:23<00:00,  1.15s/batch]\n"
     ]
    },
    {
     "name": "stdout",
     "output_type": "stream",
     "text": [
      "INFO:swin_transformer_3d:Validation Loss: 0.0315\n",
      "INFO:swin_transformer_3d:Epoch 17 took 133.1177 seconds\n"
     ]
    },
    {
     "name": "stderr",
     "output_type": "stream",
     "text": [
      "Epoch 18/80: 100%|██████████| 80/80 [01:46<00:00,  1.33s/batch, Batch Time=0.1247 sec]\n"
     ]
    },
    {
     "name": "stdout",
     "output_type": "stream",
     "text": [
      "INFO:swin_transformer_3d:Epoch 18/80, Loss: 0.0255\n"
     ]
    },
    {
     "name": "stderr",
     "output_type": "stream",
     "text": [
      "Validation: 100%|██████████| 20/20 [00:22<00:00,  1.14s/batch]\n"
     ]
    },
    {
     "name": "stdout",
     "output_type": "stream",
     "text": [
      "INFO:swin_transformer_3d:Validation Loss: 0.0317\n",
      "INFO:swin_transformer_3d:Epoch 18 took 129.5636 seconds\n"
     ]
    },
    {
     "name": "stderr",
     "output_type": "stream",
     "text": [
      "Epoch 19/80: 100%|██████████| 80/80 [01:41<00:00,  1.27s/batch, Batch Time=0.1490 sec]\n"
     ]
    },
    {
     "name": "stdout",
     "output_type": "stream",
     "text": [
      "INFO:swin_transformer_3d:Epoch 19/80, Loss: 0.0288\n"
     ]
    },
    {
     "name": "stderr",
     "output_type": "stream",
     "text": [
      "Validation: 100%|██████████| 20/20 [00:22<00:00,  1.14s/batch]\n"
     ]
    },
    {
     "name": "stdout",
     "output_type": "stream",
     "text": [
      "INFO:swin_transformer_3d:Validation Loss: 0.0253\n",
      "INFO:swin_transformer_3d:Epoch 19 took 124.4586 seconds\n"
     ]
    },
    {
     "name": "stderr",
     "output_type": "stream",
     "text": [
      "Epoch 20/80: 100%|██████████| 80/80 [01:42<00:00,  1.28s/batch, Batch Time=0.1150 sec]\n"
     ]
    },
    {
     "name": "stdout",
     "output_type": "stream",
     "text": [
      "INFO:swin_transformer_3d:Epoch 20/80, Loss: 0.0321\n"
     ]
    },
    {
     "name": "stderr",
     "output_type": "stream",
     "text": [
      "Validation: 100%|██████████| 20/20 [00:22<00:00,  1.10s/batch]\n"
     ]
    },
    {
     "name": "stdout",
     "output_type": "stream",
     "text": [
      "INFO:swin_transformer_3d:Validation Loss: 0.0248\n",
      "INFO:swin_transformer_3d:Epoch 20 took 124.2166 seconds\n"
     ]
    },
    {
     "name": "stderr",
     "output_type": "stream",
     "text": [
      "Epoch 21/80: 100%|██████████| 80/80 [01:44<00:00,  1.30s/batch, Batch Time=0.1186 sec]\n"
     ]
    },
    {
     "name": "stdout",
     "output_type": "stream",
     "text": [
      "INFO:swin_transformer_3d:Epoch 21/80, Loss: 0.0251\n"
     ]
    },
    {
     "name": "stderr",
     "output_type": "stream",
     "text": [
      "Validation: 100%|██████████| 20/20 [00:23<00:00,  1.17s/batch]\n"
     ]
    },
    {
     "name": "stdout",
     "output_type": "stream",
     "text": [
      "INFO:swin_transformer_3d:Validation Loss: 0.0261\n",
      "INFO:swin_transformer_3d:Epoch 21 took 127.6458 seconds\n"
     ]
    },
    {
     "name": "stderr",
     "output_type": "stream",
     "text": [
      "Epoch 22/80: 100%|██████████| 80/80 [01:47<00:00,  1.34s/batch, Batch Time=0.1047 sec]\n"
     ]
    },
    {
     "name": "stdout",
     "output_type": "stream",
     "text": [
      "INFO:swin_transformer_3d:Epoch 22/80, Loss: 0.0271\n"
     ]
    },
    {
     "name": "stderr",
     "output_type": "stream",
     "text": [
      "Validation: 100%|██████████| 20/20 [00:23<00:00,  1.17s/batch]\n"
     ]
    },
    {
     "name": "stdout",
     "output_type": "stream",
     "text": [
      "INFO:swin_transformer_3d:Validation Loss: 0.0264\n",
      "INFO:swin_transformer_3d:Epoch 22 took 130.7375 seconds\n"
     ]
    },
    {
     "name": "stderr",
     "output_type": "stream",
     "text": [
      "Epoch 23/80: 100%|██████████| 80/80 [01:43<00:00,  1.30s/batch, Batch Time=0.1093 sec]\n"
     ]
    },
    {
     "name": "stdout",
     "output_type": "stream",
     "text": [
      "INFO:swin_transformer_3d:Epoch 23/80, Loss: 0.0288\n"
     ]
    },
    {
     "name": "stderr",
     "output_type": "stream",
     "text": [
      "Validation: 100%|██████████| 20/20 [00:23<00:00,  1.17s/batch]\n"
     ]
    },
    {
     "name": "stdout",
     "output_type": "stream",
     "text": [
      "INFO:swin_transformer_3d:Validation Loss: 0.0254\n",
      "INFO:swin_transformer_3d:Epoch 23 took 127.2109 seconds\n"
     ]
    },
    {
     "name": "stderr",
     "output_type": "stream",
     "text": [
      "Epoch 24/80: 100%|██████████| 80/80 [01:42<00:00,  1.28s/batch, Batch Time=0.1045 sec]\n"
     ]
    },
    {
     "name": "stdout",
     "output_type": "stream",
     "text": [
      "INFO:swin_transformer_3d:Epoch 24/80, Loss: 0.0294\n"
     ]
    },
    {
     "name": "stderr",
     "output_type": "stream",
     "text": [
      "Validation: 100%|██████████| 20/20 [00:22<00:00,  1.12s/batch]\n"
     ]
    },
    {
     "name": "stdout",
     "output_type": "stream",
     "text": [
      "INFO:swin_transformer_3d:Validation Loss: 0.0218\n",
      "INFO:swin_transformer_3d:Epoch 24 took 124.9768 seconds\n"
     ]
    },
    {
     "name": "stderr",
     "output_type": "stream",
     "text": [
      "Epoch 25/80: 100%|██████████| 80/80 [01:42<00:00,  1.28s/batch, Batch Time=0.1290 sec]\n"
     ]
    },
    {
     "name": "stdout",
     "output_type": "stream",
     "text": [
      "INFO:swin_transformer_3d:Epoch 25/80, Loss: 0.0266\n"
     ]
    },
    {
     "name": "stderr",
     "output_type": "stream",
     "text": [
      "Validation: 100%|██████████| 20/20 [00:22<00:00,  1.14s/batch]\n"
     ]
    },
    {
     "name": "stdout",
     "output_type": "stream",
     "text": [
      "INFO:swin_transformer_3d:Validation Loss: 0.0217\n",
      "INFO:swin_transformer_3d:Epoch 25 took 125.0344 seconds\n"
     ]
    },
    {
     "name": "stderr",
     "output_type": "stream",
     "text": [
      "Epoch 26/80: 100%|██████████| 80/80 [01:47<00:00,  1.34s/batch, Batch Time=0.1560 sec]\n"
     ]
    },
    {
     "name": "stdout",
     "output_type": "stream",
     "text": [
      "INFO:swin_transformer_3d:Epoch 26/80, Loss: 0.0306\n"
     ]
    },
    {
     "name": "stderr",
     "output_type": "stream",
     "text": [
      "Validation: 100%|██████████| 20/20 [00:26<00:00,  1.31s/batch]\n"
     ]
    },
    {
     "name": "stdout",
     "output_type": "stream",
     "text": [
      "INFO:swin_transformer_3d:Validation Loss: 0.0234\n",
      "INFO:swin_transformer_3d:Epoch 26 took 133.4268 seconds\n"
     ]
    },
    {
     "name": "stderr",
     "output_type": "stream",
     "text": [
      "Epoch 27/80: 100%|██████████| 80/80 [01:48<00:00,  1.36s/batch, Batch Time=0.1283 sec]\n"
     ]
    },
    {
     "name": "stdout",
     "output_type": "stream",
     "text": [
      "INFO:swin_transformer_3d:Epoch 27/80, Loss: 0.0238\n"
     ]
    },
    {
     "name": "stderr",
     "output_type": "stream",
     "text": [
      "Validation: 100%|██████████| 20/20 [00:23<00:00,  1.20s/batch]\n"
     ]
    },
    {
     "name": "stdout",
     "output_type": "stream",
     "text": [
      "INFO:swin_transformer_3d:Validation Loss: 0.0227\n",
      "INFO:swin_transformer_3d:Epoch 27 took 132.9590 seconds\n"
     ]
    },
    {
     "name": "stderr",
     "output_type": "stream",
     "text": [
      "Epoch 28/80: 100%|██████████| 80/80 [01:41<00:00,  1.27s/batch, Batch Time=0.0883 sec]\n"
     ]
    },
    {
     "name": "stdout",
     "output_type": "stream",
     "text": [
      "INFO:swin_transformer_3d:Epoch 28/80, Loss: 0.0259\n"
     ]
    },
    {
     "name": "stderr",
     "output_type": "stream",
     "text": [
      "Validation: 100%|██████████| 20/20 [00:22<00:00,  1.12s/batch]\n"
     ]
    },
    {
     "name": "stdout",
     "output_type": "stream",
     "text": [
      "INFO:swin_transformer_3d:Validation Loss: 0.0254\n",
      "INFO:swin_transformer_3d:Epoch 28 took 123.7980 seconds\n"
     ]
    },
    {
     "name": "stderr",
     "output_type": "stream",
     "text": [
      "Epoch 29/80: 100%|██████████| 80/80 [01:52<00:00,  1.41s/batch, Batch Time=0.1564 sec]\n"
     ]
    },
    {
     "name": "stdout",
     "output_type": "stream",
     "text": [
      "INFO:swin_transformer_3d:Epoch 29/80, Loss: 0.0242\n"
     ]
    },
    {
     "name": "stderr",
     "output_type": "stream",
     "text": [
      "Validation: 100%|██████████| 20/20 [00:24<00:00,  1.23s/batch]\n"
     ]
    },
    {
     "name": "stdout",
     "output_type": "stream",
     "text": [
      "INFO:swin_transformer_3d:Validation Loss: 0.0265\n",
      "INFO:swin_transformer_3d:Epoch 29 took 137.1494 seconds\n"
     ]
    },
    {
     "name": "stderr",
     "output_type": "stream",
     "text": [
      "Epoch 30/80: 100%|██████████| 80/80 [01:52<00:00,  1.40s/batch, Batch Time=0.1459 sec]\n"
     ]
    },
    {
     "name": "stdout",
     "output_type": "stream",
     "text": [
      "INFO:swin_transformer_3d:Epoch 30/80, Loss: 0.0261\n"
     ]
    },
    {
     "name": "stderr",
     "output_type": "stream",
     "text": [
      "Validation: 100%|██████████| 20/20 [00:24<00:00,  1.23s/batch]\n"
     ]
    },
    {
     "name": "stdout",
     "output_type": "stream",
     "text": [
      "INFO:swin_transformer_3d:Validation Loss: 0.0212\n",
      "INFO:swin_transformer_3d:Epoch 30 took 136.5956 seconds\n"
     ]
    },
    {
     "name": "stderr",
     "output_type": "stream",
     "text": [
      "Epoch 31/80: 100%|██████████| 80/80 [01:46<00:00,  1.33s/batch, Batch Time=0.1006 sec]\n"
     ]
    },
    {
     "name": "stdout",
     "output_type": "stream",
     "text": [
      "INFO:swin_transformer_3d:Epoch 31/80, Loss: 0.0215\n"
     ]
    },
    {
     "name": "stderr",
     "output_type": "stream",
     "text": [
      "Validation: 100%|██████████| 20/20 [00:23<00:00,  1.19s/batch]\n"
     ]
    },
    {
     "name": "stdout",
     "output_type": "stream",
     "text": [
      "INFO:swin_transformer_3d:Validation Loss: 0.0216\n",
      "INFO:swin_transformer_3d:Epoch 31 took 130.3617 seconds\n"
     ]
    },
    {
     "name": "stderr",
     "output_type": "stream",
     "text": [
      "Epoch 32/80: 100%|██████████| 80/80 [01:43<00:00,  1.29s/batch, Batch Time=0.1433 sec]\n"
     ]
    },
    {
     "name": "stdout",
     "output_type": "stream",
     "text": [
      "INFO:swin_transformer_3d:Epoch 32/80, Loss: 0.0184\n"
     ]
    },
    {
     "name": "stderr",
     "output_type": "stream",
     "text": [
      "Validation: 100%|██████████| 20/20 [00:22<00:00,  1.11s/batch]\n"
     ]
    },
    {
     "name": "stdout",
     "output_type": "stream",
     "text": [
      "INFO:swin_transformer_3d:Validation Loss: 0.0208\n",
      "INFO:swin_transformer_3d:Epoch 32 took 125.4559 seconds\n"
     ]
    },
    {
     "name": "stderr",
     "output_type": "stream",
     "text": [
      "Epoch 33/80: 100%|██████████| 80/80 [01:38<00:00,  1.23s/batch, Batch Time=0.1227 sec]\n"
     ]
    },
    {
     "name": "stdout",
     "output_type": "stream",
     "text": [
      "INFO:swin_transformer_3d:Epoch 33/80, Loss: 0.0241\n"
     ]
    },
    {
     "name": "stderr",
     "output_type": "stream",
     "text": [
      "Validation: 100%|██████████| 20/20 [00:22<00:00,  1.12s/batch]\n"
     ]
    },
    {
     "name": "stdout",
     "output_type": "stream",
     "text": [
      "INFO:swin_transformer_3d:Validation Loss: 0.0169\n",
      "INFO:swin_transformer_3d:Epoch 33 took 121.0540 seconds\n"
     ]
    },
    {
     "name": "stderr",
     "output_type": "stream",
     "text": [
      "Epoch 34/80: 100%|██████████| 80/80 [01:37<00:00,  1.22s/batch, Batch Time=0.1174 sec]\n"
     ]
    },
    {
     "name": "stdout",
     "output_type": "stream",
     "text": [
      "INFO:swin_transformer_3d:Epoch 34/80, Loss: 0.0233\n"
     ]
    },
    {
     "name": "stderr",
     "output_type": "stream",
     "text": [
      "Validation: 100%|██████████| 20/20 [00:23<00:00,  1.15s/batch]\n"
     ]
    },
    {
     "name": "stdout",
     "output_type": "stream",
     "text": [
      "INFO:swin_transformer_3d:Validation Loss: 0.0226\n",
      "INFO:swin_transformer_3d:Epoch 34 took 121.0042 seconds\n"
     ]
    },
    {
     "name": "stderr",
     "output_type": "stream",
     "text": [
      "Epoch 35/80: 100%|██████████| 80/80 [01:47<00:00,  1.34s/batch, Batch Time=0.0912 sec]\n"
     ]
    },
    {
     "name": "stdout",
     "output_type": "stream",
     "text": [
      "INFO:swin_transformer_3d:Epoch 35/80, Loss: 0.0274\n"
     ]
    },
    {
     "name": "stderr",
     "output_type": "stream",
     "text": [
      "Validation: 100%|██████████| 20/20 [00:23<00:00,  1.16s/batch]\n"
     ]
    },
    {
     "name": "stdout",
     "output_type": "stream",
     "text": [
      "INFO:swin_transformer_3d:Validation Loss: 0.0255\n",
      "INFO:swin_transformer_3d:Epoch 35 took 130.3156 seconds\n"
     ]
    },
    {
     "name": "stderr",
     "output_type": "stream",
     "text": [
      "Epoch 36/80: 100%|██████████| 80/80 [01:41<00:00,  1.27s/batch, Batch Time=0.1327 sec]\n"
     ]
    },
    {
     "name": "stdout",
     "output_type": "stream",
     "text": [
      "INFO:swin_transformer_3d:Epoch 36/80, Loss: 0.0218\n"
     ]
    },
    {
     "name": "stderr",
     "output_type": "stream",
     "text": [
      "Validation: 100%|██████████| 20/20 [00:22<00:00,  1.14s/batch]\n"
     ]
    },
    {
     "name": "stdout",
     "output_type": "stream",
     "text": [
      "INFO:swin_transformer_3d:Validation Loss: 0.0195\n",
      "INFO:swin_transformer_3d:Epoch 36 took 124.2945 seconds\n"
     ]
    },
    {
     "name": "stderr",
     "output_type": "stream",
     "text": [
      "Epoch 37/80: 100%|██████████| 80/80 [01:39<00:00,  1.24s/batch, Batch Time=0.0919 sec]\n"
     ]
    },
    {
     "name": "stdout",
     "output_type": "stream",
     "text": [
      "INFO:swin_transformer_3d:Epoch 37/80, Loss: 0.0252\n"
     ]
    },
    {
     "name": "stderr",
     "output_type": "stream",
     "text": [
      "Validation: 100%|██████████| 20/20 [00:22<00:00,  1.14s/batch]\n"
     ]
    },
    {
     "name": "stdout",
     "output_type": "stream",
     "text": [
      "INFO:swin_transformer_3d:Validation Loss: 0.0335\n",
      "INFO:swin_transformer_3d:Epoch 37 took 122.3161 seconds\n"
     ]
    },
    {
     "name": "stderr",
     "output_type": "stream",
     "text": [
      "Epoch 38/80: 100%|██████████| 80/80 [01:47<00:00,  1.34s/batch, Batch Time=0.1333 sec]\n"
     ]
    },
    {
     "name": "stdout",
     "output_type": "stream",
     "text": [
      "INFO:swin_transformer_3d:Epoch 38/80, Loss: 0.0259\n"
     ]
    },
    {
     "name": "stderr",
     "output_type": "stream",
     "text": [
      "Validation: 100%|██████████| 20/20 [00:25<00:00,  1.27s/batch]\n"
     ]
    },
    {
     "name": "stdout",
     "output_type": "stream",
     "text": [
      "INFO:swin_transformer_3d:Validation Loss: 0.0229\n",
      "INFO:swin_transformer_3d:Epoch 38 took 132.5695 seconds\n"
     ]
    },
    {
     "name": "stderr",
     "output_type": "stream",
     "text": [
      "Epoch 39/80: 100%|██████████| 80/80 [01:43<00:00,  1.30s/batch, Batch Time=0.1528 sec]\n"
     ]
    },
    {
     "name": "stdout",
     "output_type": "stream",
     "text": [
      "INFO:swin_transformer_3d:Epoch 39/80, Loss: 0.0260\n"
     ]
    },
    {
     "name": "stderr",
     "output_type": "stream",
     "text": [
      "Validation: 100%|██████████| 20/20 [00:22<00:00,  1.10s/batch]\n"
     ]
    },
    {
     "name": "stdout",
     "output_type": "stream",
     "text": [
      "INFO:swin_transformer_3d:Validation Loss: 0.0243\n",
      "INFO:swin_transformer_3d:Epoch 39 took 125.8988 seconds\n"
     ]
    },
    {
     "name": "stderr",
     "output_type": "stream",
     "text": [
      "Epoch 40/80: 100%|██████████| 80/80 [01:40<00:00,  1.25s/batch, Batch Time=0.1254 sec]\n"
     ]
    },
    {
     "name": "stdout",
     "output_type": "stream",
     "text": [
      "INFO:swin_transformer_3d:Epoch 40/80, Loss: 0.0180\n"
     ]
    },
    {
     "name": "stderr",
     "output_type": "stream",
     "text": [
      "Validation: 100%|██████████| 20/20 [00:21<00:00,  1.10s/batch]\n"
     ]
    },
    {
     "name": "stdout",
     "output_type": "stream",
     "text": [
      "INFO:swin_transformer_3d:Validation Loss: 0.0189\n",
      "INFO:swin_transformer_3d:Epoch 40 took 122.2807 seconds\n"
     ]
    },
    {
     "name": "stderr",
     "output_type": "stream",
     "text": [
      "Epoch 41/80: 100%|██████████| 80/80 [01:41<00:00,  1.27s/batch, Batch Time=0.1088 sec]\n"
     ]
    },
    {
     "name": "stdout",
     "output_type": "stream",
     "text": [
      "INFO:swin_transformer_3d:Epoch 41/80, Loss: 0.0213\n"
     ]
    },
    {
     "name": "stderr",
     "output_type": "stream",
     "text": [
      "Validation: 100%|██████████| 20/20 [00:25<00:00,  1.26s/batch]\n"
     ]
    },
    {
     "name": "stdout",
     "output_type": "stream",
     "text": [
      "INFO:swin_transformer_3d:Validation Loss: 0.0218\n",
      "INFO:swin_transformer_3d:Epoch 41 took 127.2716 seconds\n"
     ]
    },
    {
     "name": "stderr",
     "output_type": "stream",
     "text": [
      "Epoch 42/80: 100%|██████████| 80/80 [01:59<00:00,  1.50s/batch, Batch Time=0.1338 sec]\n"
     ]
    },
    {
     "name": "stdout",
     "output_type": "stream",
     "text": [
      "INFO:swin_transformer_3d:Epoch 42/80, Loss: 0.0233\n"
     ]
    },
    {
     "name": "stderr",
     "output_type": "stream",
     "text": [
      "Validation: 100%|██████████| 20/20 [00:25<00:00,  1.29s/batch]\n"
     ]
    },
    {
     "name": "stdout",
     "output_type": "stream",
     "text": [
      "INFO:swin_transformer_3d:Validation Loss: 0.0269\n",
      "INFO:swin_transformer_3d:Epoch 42 took 145.8505 seconds\n"
     ]
    },
    {
     "name": "stderr",
     "output_type": "stream",
     "text": [
      "Epoch 43/80: 100%|██████████| 80/80 [01:47<00:00,  1.35s/batch, Batch Time=0.1089 sec]\n"
     ]
    },
    {
     "name": "stdout",
     "output_type": "stream",
     "text": [
      "INFO:swin_transformer_3d:Epoch 43/80, Loss: 0.0249\n"
     ]
    },
    {
     "name": "stderr",
     "output_type": "stream",
     "text": [
      "Validation: 100%|██████████| 20/20 [00:22<00:00,  1.12s/batch]\n"
     ]
    },
    {
     "name": "stdout",
     "output_type": "stream",
     "text": [
      "INFO:swin_transformer_3d:Validation Loss: 0.0209\n",
      "INFO:swin_transformer_3d:Epoch 43 took 130.1818 seconds\n"
     ]
    },
    {
     "name": "stderr",
     "output_type": "stream",
     "text": [
      "Epoch 44/80: 100%|██████████| 80/80 [01:43<00:00,  1.30s/batch, Batch Time=0.1385 sec]\n"
     ]
    },
    {
     "name": "stdout",
     "output_type": "stream",
     "text": [
      "INFO:swin_transformer_3d:Epoch 44/80, Loss: 0.0214\n"
     ]
    },
    {
     "name": "stderr",
     "output_type": "stream",
     "text": [
      "Validation: 100%|██████████| 20/20 [00:22<00:00,  1.11s/batch]\n"
     ]
    },
    {
     "name": "stdout",
     "output_type": "stream",
     "text": [
      "INFO:swin_transformer_3d:Validation Loss: 0.0151\n",
      "INFO:swin_transformer_3d:Epoch 44 took 125.9417 seconds\n"
     ]
    },
    {
     "name": "stderr",
     "output_type": "stream",
     "text": [
      "Epoch 45/80: 100%|██████████| 80/80 [01:43<00:00,  1.30s/batch, Batch Time=0.1400 sec]\n"
     ]
    },
    {
     "name": "stdout",
     "output_type": "stream",
     "text": [
      "INFO:swin_transformer_3d:Epoch 45/80, Loss: 0.0191\n"
     ]
    },
    {
     "name": "stderr",
     "output_type": "stream",
     "text": [
      "Validation: 100%|██████████| 20/20 [00:22<00:00,  1.12s/batch]\n"
     ]
    },
    {
     "name": "stdout",
     "output_type": "stream",
     "text": [
      "INFO:swin_transformer_3d:Validation Loss: 0.0200\n",
      "INFO:swin_transformer_3d:Epoch 45 took 125.9952 seconds\n"
     ]
    },
    {
     "name": "stderr",
     "output_type": "stream",
     "text": [
      "Epoch 46/80: 100%|██████████| 80/80 [01:44<00:00,  1.30s/batch, Batch Time=0.1268 sec]\n"
     ]
    },
    {
     "name": "stdout",
     "output_type": "stream",
     "text": [
      "INFO:swin_transformer_3d:Epoch 46/80, Loss: 0.0223\n"
     ]
    },
    {
     "name": "stderr",
     "output_type": "stream",
     "text": [
      "Validation: 100%|██████████| 20/20 [00:22<00:00,  1.10s/batch]\n"
     ]
    },
    {
     "name": "stdout",
     "output_type": "stream",
     "text": [
      "INFO:swin_transformer_3d:Validation Loss: 0.0204\n",
      "INFO:swin_transformer_3d:Epoch 46 took 126.0631 seconds\n"
     ]
    },
    {
     "name": "stderr",
     "output_type": "stream",
     "text": [
      "Epoch 47/80: 100%|██████████| 80/80 [01:43<00:00,  1.30s/batch, Batch Time=0.1275 sec]\n"
     ]
    },
    {
     "name": "stdout",
     "output_type": "stream",
     "text": [
      "INFO:swin_transformer_3d:Epoch 47/80, Loss: 0.0210\n"
     ]
    },
    {
     "name": "stderr",
     "output_type": "stream",
     "text": [
      "Validation: 100%|██████████| 20/20 [00:22<00:00,  1.10s/batch]\n"
     ]
    },
    {
     "name": "stdout",
     "output_type": "stream",
     "text": [
      "INFO:swin_transformer_3d:Validation Loss: 0.0187\n",
      "INFO:swin_transformer_3d:Epoch 47 took 126.0616 seconds\n"
     ]
    },
    {
     "name": "stderr",
     "output_type": "stream",
     "text": [
      "Epoch 48/80: 100%|██████████| 80/80 [01:40<00:00,  1.26s/batch, Batch Time=0.1367 sec]\n"
     ]
    },
    {
     "name": "stdout",
     "output_type": "stream",
     "text": [
      "INFO:swin_transformer_3d:Epoch 48/80, Loss: 0.0210\n"
     ]
    },
    {
     "name": "stderr",
     "output_type": "stream",
     "text": [
      "Validation: 100%|██████████| 20/20 [00:47<00:00,  2.37s/batch]\n"
     ]
    },
    {
     "name": "stdout",
     "output_type": "stream",
     "text": [
      "INFO:swin_transformer_3d:Validation Loss: 0.0192\n",
      "INFO:swin_transformer_3d:Epoch 48 took 148.2457 seconds\n"
     ]
    },
    {
     "name": "stderr",
     "output_type": "stream",
     "text": [
      "Epoch 49/80: 100%|██████████| 80/80 [12:23<00:00,  9.29s/batch, Batch Time=0.1474 sec]\n"
     ]
    },
    {
     "name": "stdout",
     "output_type": "stream",
     "text": [
      "INFO:swin_transformer_3d:Epoch 49/80, Loss: 0.0212\n"
     ]
    },
    {
     "name": "stderr",
     "output_type": "stream",
     "text": [
      "Validation: 100%|██████████| 20/20 [02:24<00:00,  7.20s/batch]\n"
     ]
    },
    {
     "name": "stdout",
     "output_type": "stream",
     "text": [
      "INFO:swin_transformer_3d:Validation Loss: 0.0168\n",
      "INFO:swin_transformer_3d:Epoch 49 took 887.1523 seconds\n"
     ]
    },
    {
     "name": "stderr",
     "output_type": "stream",
     "text": [
      "Epoch 50/80: 100%|██████████| 80/80 [01:47<00:00,  1.34s/batch, Batch Time=0.1093 sec]\n"
     ]
    },
    {
     "name": "stdout",
     "output_type": "stream",
     "text": [
      "INFO:swin_transformer_3d:Epoch 50/80, Loss: 0.0192\n"
     ]
    },
    {
     "name": "stderr",
     "output_type": "stream",
     "text": [
      "Validation: 100%|██████████| 20/20 [00:24<00:00,  1.22s/batch]\n"
     ]
    },
    {
     "name": "stdout",
     "output_type": "stream",
     "text": [
      "INFO:swin_transformer_3d:Validation Loss: 0.0204\n",
      "INFO:swin_transformer_3d:Epoch 50 took 131.5051 seconds\n"
     ]
    },
    {
     "name": "stderr",
     "output_type": "stream",
     "text": [
      "Epoch 51/80: 100%|██████████| 80/80 [01:51<00:00,  1.39s/batch, Batch Time=0.1520 sec]\n"
     ]
    },
    {
     "name": "stdout",
     "output_type": "stream",
     "text": [
      "INFO:swin_transformer_3d:Epoch 51/80, Loss: 0.0216\n"
     ]
    },
    {
     "name": "stderr",
     "output_type": "stream",
     "text": [
      "Validation: 100%|██████████| 20/20 [00:23<00:00,  1.17s/batch]\n"
     ]
    },
    {
     "name": "stdout",
     "output_type": "stream",
     "text": [
      "INFO:swin_transformer_3d:Validation Loss: 0.0219\n",
      "INFO:swin_transformer_3d:Epoch 51 took 134.6581 seconds\n"
     ]
    },
    {
     "name": "stderr",
     "output_type": "stream",
     "text": [
      "Epoch 52/80: 100%|██████████| 80/80 [01:48<00:00,  1.35s/batch, Batch Time=0.1235 sec]\n"
     ]
    },
    {
     "name": "stdout",
     "output_type": "stream",
     "text": [
      "INFO:swin_transformer_3d:Epoch 52/80, Loss: 0.0192\n"
     ]
    },
    {
     "name": "stderr",
     "output_type": "stream",
     "text": [
      "Validation: 100%|██████████| 20/20 [00:23<00:00,  1.18s/batch]\n"
     ]
    },
    {
     "name": "stdout",
     "output_type": "stream",
     "text": [
      "INFO:swin_transformer_3d:Validation Loss: 0.0236\n",
      "INFO:swin_transformer_3d:Epoch 52 took 131.6574 seconds\n"
     ]
    },
    {
     "name": "stderr",
     "output_type": "stream",
     "text": [
      "Epoch 53/80: 100%|██████████| 80/80 [01:44<00:00,  1.31s/batch, Batch Time=0.1467 sec]\n"
     ]
    },
    {
     "name": "stdout",
     "output_type": "stream",
     "text": [
      "INFO:swin_transformer_3d:Epoch 53/80, Loss: 0.0234\n"
     ]
    },
    {
     "name": "stderr",
     "output_type": "stream",
     "text": [
      "Validation: 100%|██████████| 20/20 [00:22<00:00,  1.14s/batch]\n"
     ]
    },
    {
     "name": "stdout",
     "output_type": "stream",
     "text": [
      "INFO:swin_transformer_3d:Validation Loss: 0.0218\n",
      "INFO:swin_transformer_3d:Epoch 53 took 127.4757 seconds\n"
     ]
    },
    {
     "name": "stderr",
     "output_type": "stream",
     "text": [
      "Epoch 54/80: 100%|██████████| 80/80 [01:44<00:00,  1.31s/batch, Batch Time=0.1367 sec]\n"
     ]
    },
    {
     "name": "stdout",
     "output_type": "stream",
     "text": [
      "INFO:swin_transformer_3d:Epoch 54/80, Loss: 0.0226\n"
     ]
    },
    {
     "name": "stderr",
     "output_type": "stream",
     "text": [
      "Validation: 100%|██████████| 20/20 [00:22<00:00,  1.15s/batch]\n"
     ]
    },
    {
     "name": "stdout",
     "output_type": "stream",
     "text": [
      "INFO:swin_transformer_3d:Validation Loss: 0.0237\n",
      "INFO:swin_transformer_3d:Epoch 54 took 127.5804 seconds\n"
     ]
    },
    {
     "name": "stderr",
     "output_type": "stream",
     "text": [
      "Epoch 55/80: 100%|██████████| 80/80 [01:43<00:00,  1.29s/batch, Batch Time=0.1401 sec]\n"
     ]
    },
    {
     "name": "stdout",
     "output_type": "stream",
     "text": [
      "INFO:swin_transformer_3d:Epoch 55/80, Loss: 0.0241\n"
     ]
    },
    {
     "name": "stderr",
     "output_type": "stream",
     "text": [
      "Validation: 100%|██████████| 20/20 [00:22<00:00,  1.12s/batch]\n"
     ]
    },
    {
     "name": "stdout",
     "output_type": "stream",
     "text": [
      "INFO:swin_transformer_3d:Validation Loss: 0.0195\n",
      "INFO:swin_transformer_3d:Epoch 55 took 125.6004 seconds\n"
     ]
    },
    {
     "name": "stderr",
     "output_type": "stream",
     "text": [
      "Epoch 56/80: 100%|██████████| 80/80 [01:46<00:00,  1.33s/batch, Batch Time=0.1830 sec]\n"
     ]
    },
    {
     "name": "stdout",
     "output_type": "stream",
     "text": [
      "INFO:swin_transformer_3d:Epoch 56/80, Loss: 0.0219\n"
     ]
    },
    {
     "name": "stderr",
     "output_type": "stream",
     "text": [
      "Validation: 100%|██████████| 20/20 [00:24<00:00,  1.25s/batch]\n"
     ]
    },
    {
     "name": "stdout",
     "output_type": "stream",
     "text": [
      "INFO:swin_transformer_3d:Validation Loss: 0.0187\n",
      "INFO:swin_transformer_3d:Epoch 56 took 131.2175 seconds\n"
     ]
    },
    {
     "name": "stderr",
     "output_type": "stream",
     "text": [
      "Epoch 57/80: 100%|██████████| 80/80 [01:50<00:00,  1.38s/batch, Batch Time=0.1505 sec]\n"
     ]
    },
    {
     "name": "stdout",
     "output_type": "stream",
     "text": [
      "INFO:swin_transformer_3d:Epoch 57/80, Loss: 0.0218\n"
     ]
    },
    {
     "name": "stderr",
     "output_type": "stream",
     "text": [
      "Validation: 100%|██████████| 20/20 [00:23<00:00,  1.19s/batch]\n"
     ]
    },
    {
     "name": "stdout",
     "output_type": "stream",
     "text": [
      "INFO:swin_transformer_3d:Validation Loss: 0.0152\n",
      "INFO:swin_transformer_3d:Epoch 57 took 134.5212 seconds\n"
     ]
    },
    {
     "name": "stderr",
     "output_type": "stream",
     "text": [
      "Epoch 58/80: 100%|██████████| 80/80 [01:51<00:00,  1.40s/batch, Batch Time=0.1296 sec]\n"
     ]
    },
    {
     "name": "stdout",
     "output_type": "stream",
     "text": [
      "INFO:swin_transformer_3d:Epoch 58/80, Loss: 0.0206\n"
     ]
    },
    {
     "name": "stderr",
     "output_type": "stream",
     "text": [
      "Validation: 100%|██████████| 20/20 [00:23<00:00,  1.16s/batch]\n"
     ]
    },
    {
     "name": "stdout",
     "output_type": "stream",
     "text": [
      "INFO:swin_transformer_3d:Validation Loss: 0.0174\n",
      "INFO:swin_transformer_3d:Epoch 58 took 135.1479 seconds\n"
     ]
    },
    {
     "name": "stderr",
     "output_type": "stream",
     "text": [
      "Epoch 59/80: 100%|██████████| 80/80 [01:44<00:00,  1.31s/batch, Batch Time=0.1590 sec]\n"
     ]
    },
    {
     "name": "stdout",
     "output_type": "stream",
     "text": [
      "INFO:swin_transformer_3d:Epoch 59/80, Loss: 0.0170\n"
     ]
    },
    {
     "name": "stderr",
     "output_type": "stream",
     "text": [
      "Validation: 100%|██████████| 20/20 [00:22<00:00,  1.10s/batch]\n"
     ]
    },
    {
     "name": "stdout",
     "output_type": "stream",
     "text": [
      "INFO:swin_transformer_3d:Validation Loss: 0.0162\n",
      "INFO:swin_transformer_3d:Epoch 59 took 126.8869 seconds\n"
     ]
    },
    {
     "name": "stderr",
     "output_type": "stream",
     "text": [
      "Epoch 60/80: 100%|██████████| 80/80 [01:41<00:00,  1.27s/batch, Batch Time=0.1264 sec]\n"
     ]
    },
    {
     "name": "stdout",
     "output_type": "stream",
     "text": [
      "INFO:swin_transformer_3d:Epoch 60/80, Loss: 0.0185\n"
     ]
    },
    {
     "name": "stderr",
     "output_type": "stream",
     "text": [
      "Validation: 100%|██████████| 20/20 [00:23<00:00,  1.18s/batch]\n"
     ]
    },
    {
     "name": "stdout",
     "output_type": "stream",
     "text": [
      "INFO:swin_transformer_3d:Validation Loss: 0.0219\n",
      "INFO:swin_transformer_3d:Epoch 60 took 124.9292 seconds\n"
     ]
    },
    {
     "name": "stderr",
     "output_type": "stream",
     "text": [
      "Epoch 61/80: 100%|██████████| 80/80 [01:44<00:00,  1.31s/batch, Batch Time=0.1307 sec]\n"
     ]
    },
    {
     "name": "stdout",
     "output_type": "stream",
     "text": [
      "INFO:swin_transformer_3d:Epoch 61/80, Loss: 0.0211\n"
     ]
    },
    {
     "name": "stderr",
     "output_type": "stream",
     "text": [
      "Validation: 100%|██████████| 20/20 [00:22<00:00,  1.13s/batch]\n"
     ]
    },
    {
     "name": "stdout",
     "output_type": "stream",
     "text": [
      "INFO:swin_transformer_3d:Validation Loss: 0.0198\n",
      "INFO:swin_transformer_3d:Epoch 61 took 127.1921 seconds\n"
     ]
    },
    {
     "name": "stderr",
     "output_type": "stream",
     "text": [
      "Epoch 62/80: 100%|██████████| 80/80 [01:43<00:00,  1.29s/batch, Batch Time=0.1288 sec]\n"
     ]
    },
    {
     "name": "stdout",
     "output_type": "stream",
     "text": [
      "INFO:swin_transformer_3d:Epoch 62/80, Loss: 0.0206\n"
     ]
    },
    {
     "name": "stderr",
     "output_type": "stream",
     "text": [
      "Validation: 100%|██████████| 20/20 [00:23<00:00,  1.18s/batch]\n"
     ]
    },
    {
     "name": "stdout",
     "output_type": "stream",
     "text": [
      "INFO:swin_transformer_3d:Validation Loss: 0.0184\n",
      "INFO:swin_transformer_3d:Epoch 62 took 126.9685 seconds\n"
     ]
    },
    {
     "name": "stderr",
     "output_type": "stream",
     "text": [
      "Epoch 63/80: 100%|██████████| 80/80 [01:49<00:00,  1.37s/batch, Batch Time=0.1680 sec]\n"
     ]
    },
    {
     "name": "stdout",
     "output_type": "stream",
     "text": [
      "INFO:swin_transformer_3d:Epoch 63/80, Loss: 0.0188\n"
     ]
    },
    {
     "name": "stderr",
     "output_type": "stream",
     "text": [
      "Validation: 100%|██████████| 20/20 [00:25<00:00,  1.28s/batch]\n"
     ]
    },
    {
     "name": "stdout",
     "output_type": "stream",
     "text": [
      "INFO:swin_transformer_3d:Validation Loss: 0.0201\n",
      "INFO:swin_transformer_3d:Epoch 63 took 135.1291 seconds\n"
     ]
    },
    {
     "name": "stderr",
     "output_type": "stream",
     "text": [
      "Epoch 64/80: 100%|██████████| 80/80 [01:52<00:00,  1.41s/batch, Batch Time=0.1518 sec]\n"
     ]
    },
    {
     "name": "stdout",
     "output_type": "stream",
     "text": [
      "INFO:swin_transformer_3d:Epoch 64/80, Loss: 0.0273\n"
     ]
    },
    {
     "name": "stderr",
     "output_type": "stream",
     "text": [
      "Validation: 100%|██████████| 20/20 [00:25<00:00,  1.27s/batch]\n"
     ]
    },
    {
     "name": "stdout",
     "output_type": "stream",
     "text": [
      "INFO:swin_transformer_3d:Validation Loss: 0.0204\n",
      "INFO:swin_transformer_3d:Epoch 64 took 137.9573 seconds\n"
     ]
    },
    {
     "name": "stderr",
     "output_type": "stream",
     "text": [
      "Epoch 65/80: 100%|██████████| 80/80 [01:52<00:00,  1.41s/batch, Batch Time=0.2151 sec]\n"
     ]
    },
    {
     "name": "stdout",
     "output_type": "stream",
     "text": [
      "INFO:swin_transformer_3d:Epoch 65/80, Loss: 0.0237\n"
     ]
    },
    {
     "name": "stderr",
     "output_type": "stream",
     "text": [
      "Validation: 100%|██████████| 20/20 [00:25<00:00,  1.29s/batch]\n"
     ]
    },
    {
     "name": "stdout",
     "output_type": "stream",
     "text": [
      "INFO:swin_transformer_3d:Validation Loss: 0.0259\n",
      "INFO:swin_transformer_3d:Epoch 65 took 138.7208 seconds\n"
     ]
    },
    {
     "name": "stderr",
     "output_type": "stream",
     "text": [
      "Epoch 66/80: 100%|██████████| 80/80 [01:52<00:00,  1.40s/batch, Batch Time=0.1899 sec]\n"
     ]
    },
    {
     "name": "stdout",
     "output_type": "stream",
     "text": [
      "INFO:swin_transformer_3d:Epoch 66/80, Loss: 0.0291\n"
     ]
    },
    {
     "name": "stderr",
     "output_type": "stream",
     "text": [
      "Validation: 100%|██████████| 20/20 [00:24<00:00,  1.22s/batch]\n"
     ]
    },
    {
     "name": "stdout",
     "output_type": "stream",
     "text": [
      "INFO:swin_transformer_3d:Validation Loss: 0.0211\n",
      "INFO:swin_transformer_3d:Epoch 66 took 136.5611 seconds\n"
     ]
    },
    {
     "name": "stderr",
     "output_type": "stream",
     "text": [
      "Epoch 67/80: 100%|██████████| 80/80 [01:49<00:00,  1.36s/batch, Batch Time=0.1660 sec]\n"
     ]
    },
    {
     "name": "stdout",
     "output_type": "stream",
     "text": [
      "INFO:swin_transformer_3d:Epoch 67/80, Loss: 0.0185\n"
     ]
    },
    {
     "name": "stderr",
     "output_type": "stream",
     "text": [
      "Validation: 100%|██████████| 20/20 [00:21<00:00,  1.06s/batch]\n"
     ]
    },
    {
     "name": "stdout",
     "output_type": "stream",
     "text": [
      "INFO:swin_transformer_3d:Validation Loss: 0.0177\n",
      "INFO:swin_transformer_3d:Epoch 67 took 130.4063 seconds\n"
     ]
    },
    {
     "name": "stderr",
     "output_type": "stream",
     "text": [
      "Epoch 68/80: 100%|██████████| 80/80 [01:41<00:00,  1.26s/batch, Batch Time=0.1767 sec]\n"
     ]
    },
    {
     "name": "stdout",
     "output_type": "stream",
     "text": [
      "INFO:swin_transformer_3d:Epoch 68/80, Loss: 0.0135\n"
     ]
    },
    {
     "name": "stderr",
     "output_type": "stream",
     "text": [
      "Validation: 100%|██████████| 20/20 [00:21<00:00,  1.08s/batch]\n"
     ]
    },
    {
     "name": "stdout",
     "output_type": "stream",
     "text": [
      "INFO:swin_transformer_3d:Validation Loss: 0.0178\n",
      "INFO:swin_transformer_3d:Epoch 68 took 122.6833 seconds\n"
     ]
    },
    {
     "name": "stderr",
     "output_type": "stream",
     "text": [
      "Epoch 69/80: 100%|██████████| 80/80 [01:47<00:00,  1.35s/batch, Batch Time=0.1771 sec]\n"
     ]
    },
    {
     "name": "stdout",
     "output_type": "stream",
     "text": [
      "INFO:swin_transformer_3d:Epoch 69/80, Loss: 0.0168\n"
     ]
    },
    {
     "name": "stderr",
     "output_type": "stream",
     "text": [
      "Validation: 100%|██████████| 20/20 [00:24<00:00,  1.21s/batch]\n"
     ]
    },
    {
     "name": "stdout",
     "output_type": "stream",
     "text": [
      "INFO:swin_transformer_3d:Validation Loss: 0.0181\n",
      "INFO:swin_transformer_3d:Epoch 69 took 131.9259 seconds\n"
     ]
    },
    {
     "name": "stderr",
     "output_type": "stream",
     "text": [
      "Epoch 70/80: 100%|██████████| 80/80 [01:50<00:00,  1.38s/batch, Batch Time=0.1986 sec]\n"
     ]
    },
    {
     "name": "stdout",
     "output_type": "stream",
     "text": [
      "INFO:swin_transformer_3d:Epoch 70/80, Loss: 0.0191\n"
     ]
    },
    {
     "name": "stderr",
     "output_type": "stream",
     "text": [
      "Validation: 100%|██████████| 20/20 [00:24<00:00,  1.22s/batch]\n"
     ]
    },
    {
     "name": "stdout",
     "output_type": "stream",
     "text": [
      "INFO:swin_transformer_3d:Validation Loss: 0.0254\n",
      "INFO:swin_transformer_3d:Epoch 70 took 135.0163 seconds\n"
     ]
    },
    {
     "name": "stderr",
     "output_type": "stream",
     "text": [
      "Epoch 71/80: 100%|██████████| 80/80 [01:48<00:00,  1.35s/batch, Batch Time=0.1932 sec]\n"
     ]
    },
    {
     "name": "stdout",
     "output_type": "stream",
     "text": [
      "INFO:swin_transformer_3d:Epoch 71/80, Loss: 0.0182\n"
     ]
    },
    {
     "name": "stderr",
     "output_type": "stream",
     "text": [
      "Validation: 100%|██████████| 20/20 [00:23<00:00,  1.20s/batch]\n"
     ]
    },
    {
     "name": "stdout",
     "output_type": "stream",
     "text": [
      "INFO:swin_transformer_3d:Validation Loss: 0.0180\n",
      "INFO:swin_transformer_3d:Epoch 71 took 132.2103 seconds\n"
     ]
    },
    {
     "name": "stderr",
     "output_type": "stream",
     "text": [
      "Epoch 72/80: 100%|██████████| 80/80 [01:47<00:00,  1.34s/batch, Batch Time=0.1816 sec]\n"
     ]
    },
    {
     "name": "stdout",
     "output_type": "stream",
     "text": [
      "INFO:swin_transformer_3d:Epoch 72/80, Loss: 0.0188\n"
     ]
    },
    {
     "name": "stderr",
     "output_type": "stream",
     "text": [
      "Validation: 100%|██████████| 20/20 [00:22<00:00,  1.12s/batch]\n"
     ]
    },
    {
     "name": "stdout",
     "output_type": "stream",
     "text": [
      "INFO:swin_transformer_3d:Validation Loss: 0.0175\n",
      "INFO:swin_transformer_3d:Epoch 72 took 129.6509 seconds\n"
     ]
    },
    {
     "name": "stderr",
     "output_type": "stream",
     "text": [
      "Epoch 73/80: 100%|██████████| 80/80 [01:45<00:00,  1.31s/batch, Batch Time=0.1437 sec]\n"
     ]
    },
    {
     "name": "stdout",
     "output_type": "stream",
     "text": [
      "INFO:swin_transformer_3d:Epoch 73/80, Loss: 0.0214\n"
     ]
    },
    {
     "name": "stderr",
     "output_type": "stream",
     "text": [
      "Validation: 100%|██████████| 20/20 [00:22<00:00,  1.13s/batch]\n"
     ]
    },
    {
     "name": "stdout",
     "output_type": "stream",
     "text": [
      "INFO:swin_transformer_3d:Validation Loss: 0.0246\n",
      "INFO:swin_transformer_3d:Epoch 73 took 127.7729 seconds\n"
     ]
    },
    {
     "name": "stderr",
     "output_type": "stream",
     "text": [
      "Epoch 74/80: 100%|██████████| 80/80 [01:53<00:00,  1.41s/batch, Batch Time=0.1555 sec]\n"
     ]
    },
    {
     "name": "stdout",
     "output_type": "stream",
     "text": [
      "INFO:swin_transformer_3d:Epoch 74/80, Loss: 0.0203\n"
     ]
    },
    {
     "name": "stderr",
     "output_type": "stream",
     "text": [
      "Validation: 100%|██████████| 20/20 [00:24<00:00,  1.22s/batch]\n"
     ]
    },
    {
     "name": "stdout",
     "output_type": "stream",
     "text": [
      "INFO:swin_transformer_3d:Validation Loss: 0.0159\n",
      "INFO:swin_transformer_3d:Epoch 74 took 137.5011 seconds\n"
     ]
    },
    {
     "name": "stderr",
     "output_type": "stream",
     "text": [
      "Epoch 75/80: 100%|██████████| 80/80 [01:48<00:00,  1.36s/batch, Batch Time=0.1715 sec]\n"
     ]
    },
    {
     "name": "stdout",
     "output_type": "stream",
     "text": [
      "INFO:swin_transformer_3d:Epoch 75/80, Loss: 0.0165\n"
     ]
    },
    {
     "name": "stderr",
     "output_type": "stream",
     "text": [
      "Validation: 100%|██████████| 20/20 [00:24<00:00,  1.21s/batch]\n"
     ]
    },
    {
     "name": "stdout",
     "output_type": "stream",
     "text": [
      "INFO:swin_transformer_3d:Validation Loss: 0.0176\n",
      "INFO:swin_transformer_3d:Epoch 75 took 132.7459 seconds\n"
     ]
    },
    {
     "name": "stderr",
     "output_type": "stream",
     "text": [
      "Epoch 76/80: 100%|██████████| 80/80 [01:50<00:00,  1.38s/batch, Batch Time=0.1568 sec]\n"
     ]
    },
    {
     "name": "stdout",
     "output_type": "stream",
     "text": [
      "INFO:swin_transformer_3d:Epoch 76/80, Loss: 0.0192\n"
     ]
    },
    {
     "name": "stderr",
     "output_type": "stream",
     "text": [
      "Validation: 100%|██████████| 20/20 [00:24<00:00,  1.24s/batch]\n"
     ]
    },
    {
     "name": "stdout",
     "output_type": "stream",
     "text": [
      "INFO:swin_transformer_3d:Validation Loss: 0.0245\n",
      "INFO:swin_transformer_3d:Epoch 76 took 135.5688 seconds\n"
     ]
    },
    {
     "name": "stderr",
     "output_type": "stream",
     "text": [
      "Epoch 77/80: 100%|██████████| 80/80 [02:03<00:00,  1.55s/batch, Batch Time=0.2116 sec]\n"
     ]
    },
    {
     "name": "stdout",
     "output_type": "stream",
     "text": [
      "INFO:swin_transformer_3d:Epoch 77/80, Loss: 0.0222\n"
     ]
    },
    {
     "name": "stderr",
     "output_type": "stream",
     "text": [
      "Validation: 100%|██████████| 20/20 [00:24<00:00,  1.24s/batch]\n"
     ]
    },
    {
     "name": "stdout",
     "output_type": "stream",
     "text": [
      "INFO:swin_transformer_3d:Validation Loss: 0.0361\n",
      "INFO:swin_transformer_3d:Epoch 77 took 148.4844 seconds\n"
     ]
    },
    {
     "name": "stderr",
     "output_type": "stream",
     "text": [
      "Epoch 78/80: 100%|██████████| 80/80 [01:51<00:00,  1.40s/batch, Batch Time=0.1558 sec]\n"
     ]
    },
    {
     "name": "stdout",
     "output_type": "stream",
     "text": [
      "INFO:swin_transformer_3d:Epoch 78/80, Loss: 0.0221\n"
     ]
    },
    {
     "name": "stderr",
     "output_type": "stream",
     "text": [
      "Validation: 100%|██████████| 20/20 [00:26<00:00,  1.34s/batch]\n"
     ]
    },
    {
     "name": "stdout",
     "output_type": "stream",
     "text": [
      "INFO:swin_transformer_3d:Validation Loss: 0.0163\n",
      "INFO:swin_transformer_3d:Epoch 78 took 138.7180 seconds\n"
     ]
    },
    {
     "name": "stderr",
     "output_type": "stream",
     "text": [
      "Epoch 79/80: 100%|██████████| 80/80 [01:47<00:00,  1.34s/batch, Batch Time=0.1736 sec]\n"
     ]
    },
    {
     "name": "stdout",
     "output_type": "stream",
     "text": [
      "INFO:swin_transformer_3d:Epoch 79/80, Loss: 0.0188\n"
     ]
    },
    {
     "name": "stderr",
     "output_type": "stream",
     "text": [
      "Validation: 100%|██████████| 20/20 [00:24<00:00,  1.22s/batch]\n"
     ]
    },
    {
     "name": "stdout",
     "output_type": "stream",
     "text": [
      "INFO:swin_transformer_3d:Validation Loss: 0.0180\n",
      "INFO:swin_transformer_3d:Epoch 79 took 131.6964 seconds\n"
     ]
    },
    {
     "name": "stderr",
     "output_type": "stream",
     "text": [
      "Epoch 80/80: 100%|██████████| 80/80 [01:50<00:00,  1.38s/batch, Batch Time=0.1917 sec]\n"
     ]
    },
    {
     "name": "stdout",
     "output_type": "stream",
     "text": [
      "INFO:swin_transformer_3d:Epoch 80/80, Loss: 0.0204\n"
     ]
    },
    {
     "name": "stderr",
     "output_type": "stream",
     "text": [
      "Validation: 100%|██████████| 20/20 [00:25<00:00,  1.25s/batch]\n"
     ]
    },
    {
     "name": "stdout",
     "output_type": "stream",
     "text": [
      "INFO:swin_transformer_3d:Validation Loss: 0.0160\n",
      "INFO:swin_transformer_3d:Epoch 80 took 135.2637 seconds\n",
      "INFO:swin_transformer_3d:State dict saved to C:\\Users\\scmmw\\OneDrive - University of Leeds\\Masters - 23-24\\Project\\results/swin_unetr_state_dict.pth\n"
     ]
    }
   ],
   "source": [
    "# Set hyperparameters\n",
    "max_epochs = 80\n",
    "learning_rate = 1e-2\n",
    "patience = 3\n",
    "models = []\n",
    "epoch_losses = []\n",
    "\n",
    "# Run the training function\n",
    "model, epoch_loss = train(train_loader, test_loader, max_epochs=max_epochs, learning_rate=learning_rate, patience=patience, model=swin_model)\n",
    "\n",
    "# Store the trained model and loss values\n",
    "models.append(model)\n",
    "epoch_losses.append(epoch_loss)\n",
    "\n",
    "# Save the model and state dict after training\n",
    "model_path = f\"{ResultsPath}/swin_unetr_model.pth\"\n",
    "state_dict_path = f\"{ResultsPath}/swin_unetr_state_dict.pth\"\n",
    "\n",
    "# Save the full model\n",
    "torch.save(model, model_path)\n",
    "\n",
    "torch.save({\"state_dict\": model.state_dict()}, state_dict_path)\n",
    "logger.info(f\"State dict saved to {state_dict_path}\")"
   ]
  },
  {
   "cell_type": "code",
   "execution_count": 68,
   "metadata": {},
   "outputs": [],
   "source": [
    "def plot_loss_curve(epoch_losses, early_stop_epoch=None, save_path=None):\n",
    "    \"\"\"\n",
    "    Plot the training loss curve and mark the early stopping point.\n",
    "\n",
    "    Args:\n",
    "        epoch_losses (list of float): List of epoch training losses.\n",
    "        early_stop_epoch (int, optional): Epoch where early stopping occurred. Defaults to None.\n",
    "        save_path (str, optional): Path to save the plot image. Defaults to None.\n",
    "    \"\"\"\n",
    "    epochs = range(1, len(epoch_losses) + 1)\n",
    "    train_losses = epoch_losses  # Since epoch_losses is already a list of floats\n",
    "\n",
    "    plt.figure(figsize=(10, 6))\n",
    "    plt.plot(epochs, train_losses, 'b', label='Training loss')\n",
    "\n",
    "    if early_stop_epoch is not None:\n",
    "        plt.axvline(x=early_stop_epoch, color='r', linestyle='--', label='Early Stopping')\n",
    "\n",
    "    plt.title('Training Loss Curve')\n",
    "    plt.xlabel('Epochs')\n",
    "    plt.ylabel('Loss')\n",
    "    plt.legend()\n",
    "\n",
    "    if save_path:\n",
    "        plt.savefig(save_path)\n",
    "\n",
    "    plt.show()\n"
   ]
  },
  {
   "cell_type": "code",
   "execution_count": 69,
   "metadata": {},
   "outputs": [
    {
     "data": {
      "image/png": "[encoded data removed]",
      "text/plain": [
       "<Figure size 1000x600 with 1 Axes>"
      ]
     },
     "metadata": {},
     "output_type": "display_data"
    }
   ],
   "source": [
    "plot_loss_curve(epoch_loss, early_stop_epoch=None, save_path=f\"{ResultsPath}/loss_curve.png\")"
   ]
  },
  {
   "cell_type": "code",
   "execution_count": null,
   "metadata": {},
   "outputs": [],
   "source": []
  },
  {
   "cell_type": "code",
   "execution_count": null,
   "metadata": {},
   "outputs": [],
   "source": []
  },
  {
   "cell_type": "code",
   "execution_count": null,
   "metadata": {},
   "outputs": [],
   "source": []
  },
  {
   "cell_type": "code",
   "execution_count": null,
   "metadata": {},
   "outputs": [],
   "source": []
  },
  {
   "cell_type": "code",
   "execution_count": null,
   "metadata": {},
   "outputs": [],
   "source": []
  },
  {
   "cell_type": "code",
   "execution_count": null,
   "metadata": {},
   "outputs": [],
   "source": []
  },
  {
   "cell_type": "code",
   "execution_count": null,
   "metadata": {},
   "outputs": [],
   "source": []
  }
 ],
 "metadata": {
  "kernelspec": {
   "display_name": "Python 3",
   "language": "python",
   "name": "python3"
  },
  "language_info": {
   "codemirror_mode": {
    "name": "ipython",
    "version": 3
   },
   "file_extension": ".py",
   "mimetype": "text/x-python",
   "name": "python",
   "nbconvert_exporter": "python",
   "pygments_lexer": "ipython3",
   "version": "3.12.4"
  }
 },
 "nbformat": 4,
 "nbformat_minor": 2
}
